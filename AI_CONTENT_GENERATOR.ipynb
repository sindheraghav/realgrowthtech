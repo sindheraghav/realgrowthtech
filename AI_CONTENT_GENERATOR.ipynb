{
  "cells": [
    {
      "cell_type": "markdown",
      "metadata": {
        "id": "view-in-github",
        "colab_type": "text"
      },
      "source": [
        "<a href=\"https://colab.research.google.com/github/sindheraghav/realgrowthtech/blob/main/AI_CONTENT_GENERATOR.ipynb\" target=\"_parent\"><img src=\"https://colab.research.google.com/assets/colab-badge.svg\" alt=\"Open In Colab\"/></a>"
      ]
    },
    {
      "cell_type": "code",
      "execution_count": null,
      "metadata": {
        "colab": {
          "base_uri": "https://localhost:8080/"
        },
        "id": "ExLdfrfP-ZRi",
        "outputId": "e496be5e-4607-4023-b046-e16920885476"
      },
      "outputs": [
        {
          "output_type": "stream",
          "name": "stdout",
          "text": [
            "Looking in indexes: https://pypi.org/simple, https://us-python.pkg.dev/colab-wheels/public/simple/\n",
            "Collecting transformers\n",
            "  Downloading transformers-4.25.1-py3-none-any.whl (5.8 MB)\n",
            "\u001b[K     |████████████████████████████████| 5.8 MB 8.6 MB/s \n",
            "\u001b[?25hCollecting huggingface-hub<1.0,>=0.10.0\n",
            "  Downloading huggingface_hub-0.11.1-py3-none-any.whl (182 kB)\n",
            "\u001b[K     |████████████████████████████████| 182 kB 47.1 MB/s \n",
            "\u001b[?25hCollecting tokenizers!=0.11.3,<0.14,>=0.11.1\n",
            "  Downloading tokenizers-0.13.2-cp38-cp38-manylinux_2_17_x86_64.manylinux2014_x86_64.whl (7.6 MB)\n",
            "\u001b[K     |████████████████████████████████| 7.6 MB 31.8 MB/s \n",
            "\u001b[?25hRequirement already satisfied: numpy>=1.17 in /usr/local/lib/python3.8/dist-packages (from transformers) (1.21.6)\n",
            "Requirement already satisfied: packaging>=20.0 in /usr/local/lib/python3.8/dist-packages (from transformers) (21.3)\n",
            "Requirement already satisfied: regex!=2019.12.17 in /usr/local/lib/python3.8/dist-packages (from transformers) (2022.6.2)\n",
            "Requirement already satisfied: pyyaml>=5.1 in /usr/local/lib/python3.8/dist-packages (from transformers) (6.0)\n",
            "Requirement already satisfied: filelock in /usr/local/lib/python3.8/dist-packages (from transformers) (3.8.0)\n",
            "Requirement already satisfied: requests in /usr/local/lib/python3.8/dist-packages (from transformers) (2.23.0)\n",
            "Requirement already satisfied: tqdm>=4.27 in /usr/local/lib/python3.8/dist-packages (from transformers) (4.64.1)\n",
            "Requirement already satisfied: typing-extensions>=3.7.4.3 in /usr/local/lib/python3.8/dist-packages (from huggingface-hub<1.0,>=0.10.0->transformers) (4.1.1)\n",
            "Requirement already satisfied: pyparsing!=3.0.5,>=2.0.2 in /usr/local/lib/python3.8/dist-packages (from packaging>=20.0->transformers) (3.0.9)\n",
            "Requirement already satisfied: chardet<4,>=3.0.2 in /usr/local/lib/python3.8/dist-packages (from requests->transformers) (3.0.4)\n",
            "Requirement already satisfied: urllib3!=1.25.0,!=1.25.1,<1.26,>=1.21.1 in /usr/local/lib/python3.8/dist-packages (from requests->transformers) (1.24.3)\n",
            "Requirement already satisfied: certifi>=2017.4.17 in /usr/local/lib/python3.8/dist-packages (from requests->transformers) (2022.9.24)\n",
            "Requirement already satisfied: idna<3,>=2.5 in /usr/local/lib/python3.8/dist-packages (from requests->transformers) (2.10)\n",
            "Installing collected packages: tokenizers, huggingface-hub, transformers\n",
            "Successfully installed huggingface-hub-0.11.1 tokenizers-0.13.2 transformers-4.25.1\n"
          ]
        }
      ],
      "source": [
        "!pip install transformers"
      ]
    },
    {
      "cell_type": "code",
      "execution_count": null,
      "metadata": {
        "colab": {
          "base_uri": "https://localhost:8080/"
        },
        "id": "Rh0zUmAG-fDG",
        "outputId": "50b5417f-982c-407e-f73c-2e62a33d0200"
      },
      "outputs": [
        {
          "output_type": "stream",
          "name": "stdout",
          "text": [
            "Looking in indexes: https://pypi.org/simple, https://us-python.pkg.dev/colab-wheels/public/simple/\n",
            "Requirement already satisfied: numpy in /usr/local/lib/python3.8/dist-packages (1.21.6)\n"
          ]
        }
      ],
      "source": [
        "!pip install numpy\n"
      ]
    },
    {
      "cell_type": "code",
      "execution_count": null,
      "metadata": {
        "id": "f_dTMbo3-jBu"
      },
      "outputs": [],
      "source": [
        "import numpy as np"
      ]
    },
    {
      "cell_type": "code",
      "execution_count": null,
      "metadata": {
        "id": "uHflAsJL-pCI"
      },
      "outputs": [],
      "source": [
        "from transformers import pipeline"
      ]
    },
    {
      "cell_type": "code",
      "execution_count": null,
      "metadata": {
        "colab": {
          "base_uri": "https://localhost:8080/",
          "height": 177,
          "referenced_widgets": [
            "b76598f138b2410688833b1341f996e5",
            "f53c01ee2d044f138d40aa232b9128c0",
            "557a62493ffb4660a79a6461712cf3c6",
            "b49505c16b314f19a687775b2d8cff2a",
            "4dfbf9a4db364ac0a5f88f4a6f2a2ca8",
            "08788cdf7d794056b3469be9783a9c87",
            "e640eadee69949da89a0d1a023151457",
            "2ec589b0107b4434a98817ac67ed09d2",
            "add401e084e14fc4a0d3ab0c05141dec",
            "b93a186f33b1485dadce7da516173a96",
            "7882c45a293740318d6f4280d3813430",
            "47cd101937934f048b25eaafbd2ed15c",
            "01d3c37c331140948a452cac276e86d8",
            "03487eaff656470398063551384f65a8",
            "491630ddf82440398634c7ce85f1ed21",
            "71752b6820ca47a9a8f9ee71079481ec",
            "cc28cb20a8414aae944177957dccf592",
            "d17bd4ce295a4a4c87c4afe60fec134b",
            "f2adfabb9b734eb0ba7ba58b85fce24f",
            "ba91553cfca54b7187417a8f8757dbc9",
            "554a7f24242d4558aa3f0a66e8f8c338",
            "80f53c5c036c4f97bb75e79f22710922",
            "264bad480b64449f8b46bfa14c083f06",
            "224f4de7136347deb14b665145224f4a",
            "104f1dc23be042b78d0edb60222e4a6c",
            "725e8726dd0a4fe0af5c4764f8ba33db",
            "f5597a8dd84d4a13b1ff56795d8c0202",
            "9497ca27d942435ea175ebdcf207dca1",
            "6ea68a589fd740aaa4bec9acee845923",
            "1d755272d279411e9f67e7cef06ae966",
            "2ac70dfe42664cd89b5a08a76c4fefa4",
            "8e76e8196bef4f668d1e896b78e90691",
            "52e694473c76465880efafc2b30be616",
            "31d5ba75a4c64735bbcbeb72dd72e3fc",
            "ac01ad131be24a458471a9b52ec4ef62",
            "659e3221f75e42e88595ee292e7e60c9",
            "68e56957f83d42658e30c9a55b60c740",
            "29e4efb4e35f4a38810b5540a70c3f08",
            "e5130bfbf31546adaf4228335f589374",
            "edc971c61a924082ae4942fe0fdbe1e3",
            "d5760cb851724b3caab7e5dbd1f422e7",
            "cce59e382c354aa5885229b8d4c5fe95",
            "44d32dd02dfe48b4b2d65358e4c5d48b",
            "10a99b0b7fd54d128554ff6b33129a3b",
            "783a9c2c0d7545d995d8efbf43ae5f3a",
            "879392905de8418eae46d9a27611995a",
            "5355b918da9040988525458c83f99dfc",
            "7dcd3f72fa5e4e9aa2d2981de5b5a935",
            "3c13ce1fdfe7405d9a5e30d2eaf0c600",
            "1c22fd46cf554b118a87fd72eb0c254b",
            "127b7e93978c4697b05aeb268e2345bc",
            "864bbecaea464ba3b9fadaf406ba4579",
            "2df540dcf770426cb0b784a1936491ce",
            "10c1e2e546c2465b9b310415596513eb",
            "6e31d9cad4d940b7b6108500be415694"
          ]
        },
        "id": "DIwHO10R-y5L",
        "outputId": "755d2569-3d21-4283-a789-3a170557eaf5"
      },
      "outputs": [
        {
          "output_type": "display_data",
          "data": {
            "text/plain": [
              "Downloading:   0%|          | 0.00/665 [00:00<?, ?B/s]"
            ],
            "application/vnd.jupyter.widget-view+json": {
              "version_major": 2,
              "version_minor": 0,
              "model_id": "b76598f138b2410688833b1341f996e5"
            }
          },
          "metadata": {}
        },
        {
          "output_type": "display_data",
          "data": {
            "text/plain": [
              "Downloading:   0%|          | 0.00/548M [00:00<?, ?B/s]"
            ],
            "application/vnd.jupyter.widget-view+json": {
              "version_major": 2,
              "version_minor": 0,
              "model_id": "47cd101937934f048b25eaafbd2ed15c"
            }
          },
          "metadata": {}
        },
        {
          "output_type": "display_data",
          "data": {
            "text/plain": [
              "Downloading:   0%|          | 0.00/1.04M [00:00<?, ?B/s]"
            ],
            "application/vnd.jupyter.widget-view+json": {
              "version_major": 2,
              "version_minor": 0,
              "model_id": "264bad480b64449f8b46bfa14c083f06"
            }
          },
          "metadata": {}
        },
        {
          "output_type": "display_data",
          "data": {
            "text/plain": [
              "Downloading:   0%|          | 0.00/456k [00:00<?, ?B/s]"
            ],
            "application/vnd.jupyter.widget-view+json": {
              "version_major": 2,
              "version_minor": 0,
              "model_id": "31d5ba75a4c64735bbcbeb72dd72e3fc"
            }
          },
          "metadata": {}
        },
        {
          "output_type": "display_data",
          "data": {
            "text/plain": [
              "Downloading:   0%|          | 0.00/1.36M [00:00<?, ?B/s]"
            ],
            "application/vnd.jupyter.widget-view+json": {
              "version_major": 2,
              "version_minor": 0,
              "model_id": "783a9c2c0d7545d995d8efbf43ae5f3a"
            }
          },
          "metadata": {}
        }
      ],
      "source": [
        "generator = pipeline(task ='text-generation', model = 'gpt2' )"
      ]
    },
    {
      "cell_type": "code",
      "execution_count": null,
      "metadata": {
        "colab": {
          "base_uri": "https://localhost:8080/"
        },
        "id": "xxooe4Fq-3s7",
        "outputId": "d0b0da8c-d6eb-40eb-b6df-f31735e28e08"
      },
      "outputs": [
        {
          "name": "stderr",
          "output_type": "stream",
          "text": [
            "Setting `pad_token_id` to `eos_token_id`:50256 for open-end generation.\n"
          ]
        },
        {
          "data": {
            "text/plain": [
              "[{'generated_text': 'Digital Marketing.\\n\\nThe book was translated by Aloist. The English version has since been translated into German.\\n\\nIn December 2013, the book was launched into print in Spanish and Portuguese for the first time on Facebook.'},\n",
              " {'generated_text': 'Digital Marketing.\\n\\n\"I\\'d like to be able to offer full information (as well as the products offered) about each of us, not just in the sense of brand value but also as individuals in the market for online marketing.\"\\n\\nAs part of the deal, the business will create more online-oriented content, both in order to offer more time-to-market content and to help customers create products and experiences that appeal to them as customers. They can also use new content to further their business.\\n\\nIt will be \"a business platform that will deliver more to the online audience and a marketing platform that provides personalized solutions and solutions tailored to the online consumer for the purpose of expanding the reach that is possible with a growing network,\" the company said.'},\n",
              " {'generated_text': 'Digital Marketing. See it all in the post \"The Biggest Threat\" (2011).\\n\\n\\nA.1 Introduction\\n\\nThere are many big names in the game industry, but we need to focus on the most relevant one: Microsoft.\\n\\n\\nIn our business model, the key issue is whether customers are successful/fail-fast. For the last 30+ years, every business has looked at the success of their digital brands. Microsoft is a small, independent corporation, which can do things such as bring a new focus to both new business models and to new areas. Many businesses also look at its growth and profitability from a revenue perspective.\\n\\n\\nIn Microsoft, the biggest issue is the price. For the past 15 years, the average customer has paid $19.99 for its Windows PCs. In 2014, sales of the Windows 8 system grew at a record annual rate as the company expanded its portfolio in other areas. The price of Windows 8 was a $3.95 upgrade for a $2.99 Windows 5 computer, a $10 upgrade for a $1.96 iPad, and $10 upgrade for a $1 laptop from $6.99/year.\\n\\n\\nThe big, big question is why are consumers in these price hikes? Why is the PC business growing faster than mobile?\\n\\nOne of the biggest, bigger questions is why the PC business (with its growing mobile footprint) is being competitive with the PC market (with its fast-growing business model'}]"
            ]
          },
          "execution_count": 7,
          "metadata": {},
          "output_type": "execute_result"
        }
      ],
      "source": [
        "generator(\"Digital Marketing.\", max_length = 300,num_return_sequences=3)"
      ]
    },
    {
      "cell_type": "code",
      "execution_count": null,
      "metadata": {
        "colab": {
          "base_uri": "https://localhost:8080/"
        },
        "id": "hwe-EkkO_nhe",
        "outputId": "0f45f74c-ec46-4217-a012-206a8abb7ee0"
      },
      "outputs": [
        {
          "name": "stderr",
          "output_type": "stream",
          "text": [
            "Setting `pad_token_id` to `eos_token_id`:50256 for open-end generation.\n"
          ]
        },
        {
          "data": {
            "text/plain": [
              "[{'generated_text': 'Business Growth with Digital Marketing. The study found that, over five decades, technology is poised to increase the volume and value of digital marketing.'},\n",
              " {'generated_text': 'Business Growth with Digital Marketing.\\n\\n\"What we focus on here is the growth,\" says Kevin Lott, senior vice president of Product Development for Google. \"We invest in the customer, on the business side, for the end user. When you\\'re looking at the business side in the digital world and the analytics world, that\\'s our biggest challenge, and we\\'re really thrilled by the results here.\" Google\\'s $2.25 billion in customer loyalty business is one of many initiatives it seeks to deliver in a new and disruptive way to the enterprise. According to Lott, the company will focus on one key strategy for its efforts to drive the value of its Google Search business: the growing digital presence and engagement with customers. Google will also be using Search to develop and expand its own products through its YouTube and other media business.\\n\\n\"People who are on the outside can have the worst sense of how the digital world is,\" he says. \"People are talking about the business side, but sometimes they just don\\'t know what we want to do at all.\" The result is that the company\\'s \"digital ecosystem\" might be overwhelmed with products—most of them Google apps—that are almost exclusively on mobile devices. Moreover, Google searches, like the one on its YouTube channel, won\\'t even come up for Google\\'s new apps for Android. \"With the way the business is going, what do you know?\" Lott says. \"Where\\'s the mobile part going to come'},\n",
              " {'generated_text': \"Business Growth with Digital Marketing.\\n\\nPatreon\\n\\nAward Winning: The 2014 Media Journalism Awards\\n\\nCreative Commons\\n\\nFirst place – best documentary film about an LGBTQ filmmaker\\n\\nSecond place – best documentary film about the LGBT community\\n\\nThird place – best documentary film about the LGBTQ community\\n\\nFour votes – best documentary film about the LGBT community\\n\\nThe Huffington Post\\n\\nAward Winning – Award Winning: A Queer Artist's Guide to Getting On the Money with Women\\n\\nCreative Commons\\n\\nAward Winning – Filmmaker's Guide to Living the Creative Life with Women\\n\\nCreative Commons\\n\\nAward Winning – Writer's Guide to Writing with Women\\n\\nCreative Commons\\n\\nAward Winning – Documentary Artwork: Looking for Ideas as an LGBT Film Filmmaker\\n\\nCreative Commons\\n\\nTop 25 documentary filmmakers of 2014 – 2018\\n\\nTop 25 film makers of 2015 – 2018\\n\\nCreativity of a Man\\n\\nAward Winning – 2017 Digital Vision Award – Best First Person Documentary\\n\\nCreativity of a Man is currently featured on both PBS The New York Film Festival and The Verge.\\n\\nThe Huffington Post.\\n\\nAn essay by the writer. Featured Image of a photo of David Guetta, which was later retitled as this story appeared.\\n\\nTallman International.\\n\\nAward winning documentary about a family of six and one of their children.\\n\\n\"}]"
            ]
          },
          "execution_count": 8,
          "metadata": {},
          "output_type": "execute_result"
        }
      ],
      "source": [
        "generator(\"Business Growth with Digital Marketing.\", max_length = 300,num_return_sequences=3)"
      ]
    },
    {
      "cell_type": "code",
      "execution_count": null,
      "metadata": {
        "colab": {
          "base_uri": "https://localhost:8080/"
        },
        "id": "B2YuxobQATyc",
        "outputId": "15ad65d6-4c92-470e-88ea-ea03237c6a89"
      },
      "outputs": [
        {
          "name": "stderr",
          "output_type": "stream",
          "text": [
            "Setting `pad_token_id` to `eos_token_id`:50256 for open-end generation.\n"
          ]
        },
        {
          "data": {
            "text/plain": [
              "[{'generated_text': \"Scope of digital marketing in 2022.\\n\\nThe future is uncertain for all the current digital media giants who rely upon this revenue to grow their business and gain traction in the world's most innovative digital media marketplace, according to researchers from Boston University and Princeton University. Digital media companies rely on $100 million in annual revenue and more than $200 billion in total revenue from digital advertising revenue.\\n\\nDigital media companies use a number of marketing tools to generate and deliver revenue that provides them with the unique competitive advantage of retaining, cultivating, and retaining subscribers. The best way to make online advertising successful is to understand where you could have an advantage if you targeted ads to specific audiences.\\n\\nA company's approach to targeting needs to be tailored to use relevant, relevant advertising to reach the customer with a measurable experience, such as a target search.\\n\\nDigital media firms recognize that different strategies will work best for each of three types of Internet users, with one or two approaches being considered.\\n\\nIn a recent study called Advertising and Market Research, researchers at the University of Texas at Austin interviewed about 6,000 Internet users about how they would select advertising opportunities to target them in their businesses. Many described the types of sites they followed so that they could use ads and share them with targeted audiences.\\n\\nIn their research, respondents were asked about the type of company they are looking for to target their targeted audience. A big factor in determining who got a particular website was how well the company displayed advertising\"},\n",
              " {'generated_text': 'Scope of digital marketing in 2022.\\n\\nThis is a difficult, complex and highly complex business, and I can only hope that the next government will take this approach in a more proactive fashion. So far as I know, the only government we have received the guidance about is the one we received three weeks ago. I\\'m hopeful of giving these responses in a way that the public will know, and that is to ensure that this legislation doesn\\'t leave our consumers unprepared and that any new decisions don\\'t change the reality of this particular business model.\\n\\n\"At the very least I would like the government to be more involved in working with stakeholders and stakeholders and stakeholders are not the only ones here who have issues with the digitalisation of the public service.\\n\\n\"The fact that we had this in place for so long has been in some form of a grey area now because this was an issue of an innovation, and the government didn\\'t spend much time thinking about this issue and they didn\\'t address it.\\n\\n\"The government must also be more effective over this. I need that attention in terms of the issue of innovation where so many parts of the business have been neglected, such as customer service. There\\'s no question about that as long as we\\'re doing a clean job.\"'},\n",
              " {'generated_text': 'Scope of digital marketing in 2022.\\n\\nThe digital transformation industry sees some rapid growth prospects to come, with the likes of Spotify and Google aiming to become the next big player in a digital media transformation. That could put more on the table in 2022 when more and more businesses are considering their respective platforms, making up for the lack of established infrastructure for what will be a large chunk of that industry.\\n\\nFacebook CEO Mark Zuckerberg\\n\\nWhen Zuckerberg first set out to \"influence\" digital marketing as well as personal growth, he was in a constant state of flux. He did a lot of \"rebooting\" of his original Instagram, Instagram had its own team and the social network had its own leader. Then came a \"flash point\" — \"a moment that, if it\\'s going to happen at its peak, it must be good\" — of his own taking control of the company. Not to mention he had a massive social media presence and the ability to sell out a wide variety of people. As the likes of Reddit, Twitter, Instagram and others began to get attention, Zuckerberg began to feel like he had become a \"one-man empire\"; he had some success with it. In retrospect, it was refreshing to see that Zuckerberg had managed to build out his own social network that is now a major part of his business and that has a lot of potential even.'}]"
            ]
          },
          "execution_count": 8,
          "metadata": {},
          "output_type": "execute_result"
        }
      ],
      "source": [
        "generator(\"Scope of digital marketing in 2022.\", max_length = 300,num_return_sequences=3)"
      ]
    },
    {
      "cell_type": "code",
      "execution_count": null,
      "metadata": {
        "colab": {
          "base_uri": "https://localhost:8080/"
        },
        "id": "Y7EjynVQgWCo",
        "outputId": "79bc2672-da99-4691-d0f6-738f5c0da0df"
      },
      "outputs": [
        {
          "name": "stderr",
          "output_type": "stream",
          "text": [
            "Setting `pad_token_id` to `eos_token_id`:50256 for open-end generation.\n"
          ]
        },
        {
          "data": {
            "text/plain": [
              "[{'generated_text': 'Growing mobile app trends in 2022.\\n\\n[Image Credit: VISA/Microsoft]'},\n",
              " {'generated_text': 'Growing mobile app trends in 2022.\\n\\nAccording to the latest data from the U.S. Department of Commerce, mobile app usage has climbed 19 percent year over year since its launch in 2013. However, mobile app user growth has accelerated, with 13 percent growth in the last two quarters of the 2016 fiscal year, compared to 9 percent in 2013—a significant improvement from the 6 percent growth recorded in the current fiscal year (2012).\\n\\nAccording to research presented by T. Rowe Price of New York University, when analyzing annual usage, mobile app usage increased by 1 percent annually for the first half of 2017. However, overall, the growth was slower than what was seen for mobile app usage as the percentage of apps used grew from 30.2 percent in Q1 2017 to 34.9 percent in Q2 2017.\\n\\nThe 2016 Mobile App Usage Trends: 2016 Mobile App Per Capita Source: T. Rowe Price\\n\\nWhile mobile app usage in 2016 was slower than it was in 2013, growth is expected to remain strong in the near term. Compared to 2013, year-over-year growth in mobile app usage has slowed to 1.3 percent per year or less in the period from the third quarter of 2013 to the third quarter of 2014 as well as the second half of 2015.\\n\\nMobile App Usage trends in 2013 have continued to rise despite lower mobile market share by Apple. Despite gaining fewer customers per user per month than in 2013, iOS mobile app usage has'},\n",
              " {'generated_text': \"Growing mobile app trends in 2022. Photo: C\\n\\nIn the last five years, mobile app revenues for mobile apps have increased, a sign that mobile apps could be profitable. Mobile apps are currently valued at around Rs 500 crore while digital is valued at Rs 750 crore.\\n\\nWith the financial crisis gripping the Indian economy, the value of digital currencies is low compared to the past, and it's no wonder why digital currencies are such an important market segment of a growing market, says Jain.\\n\\nHe also thinks that the value will be closer to Rs 300 on October 11, though a bigger price change may take place within the next three months.\\n\\nHe also said that a more robust environment also awaits the launch of the next version of the crypto currency — BitPay — if the first version of the platform is successful.\\n\\nJain said that an ongoing battle has already broken out between the banks and other players to ensure the protection of a crypto currency that has a market value of more than Rs 4bn and that the money system should be upgraded to protect the market from this type of risk.\\n\\nHe noted that digital currencies have historically been priced in terms of US dollars and that no one seems to expect these to expand the market. He is also concerned that they will also become volatile while doing so. ®\"}]"
            ]
          },
          "execution_count": 8,
          "metadata": {},
          "output_type": "execute_result"
        }
      ],
      "source": [
        "generator(\"Growing mobile app trends in 2022.\", max_length = 300,num_return_sequences=3)"
      ]
    },
    {
      "cell_type": "code",
      "execution_count": null,
      "metadata": {
        "colab": {
          "base_uri": "https://localhost:8080/"
        },
        "id": "KjgTZkwP1Ry5",
        "outputId": "d5031ae2-d7b1-48e0-d969-e6b9815eb1c4"
      },
      "outputs": [
        {
          "name": "stderr",
          "output_type": "stream",
          "text": [
            "Setting `pad_token_id` to `eos_token_id`:50256 for open-end generation.\n"
          ]
        },
        {
          "data": {
            "text/plain": [
              "[{'generated_text': \"Role of online advertising in Business Growth in 2022.\\n\\nWhy is this so important? What are the important economic interests for the first half of this year's work?\\n\\nOne idea could be to give us more resources. An easy way is the use of real-time metrics that tell us if firms are running fast enough to build the business. It's time to move to a system that is much more robust across time, a system that can help companies make faster moves to build on successful success, and a system that is a lot more robust than the one that failed to scale over the past two decades. At the same time, new metrics need to be made available to businesses to better assess them. The biggest challenge in making this change can be to reduce the reliance on technology. This is vital to have. There are some ways to do that. First there's to focus on data that gives people a baseline for measuring the effectiveness of a business. We can make sure that our metrics are at a level that allows companies to make decisions based on that data. But there could also be another way: we can help businesses make decisions more quickly. The first and greatest source of information that businesses will have, as they can't do anymore in their own businesses, is data from customers themselves. Customer engagement is really critical when it comes to building the business – including in making decisions. It should not just be up into a product category but also into a way of generating demand, which is\"},\n",
              " {'generated_text': 'Role of online advertising in Business Growth in 2022.\\n\\nHow Business Growth in 2022 Is Going to Affect Economic Behavior.\\n\\nSocial Media and Business Growth in the Next 20 Years.\\n\\nOnline Advertising Strategy and Growth Outlook and Strategy and Analysis 2015-2020.\\n\\nInvestment in Business Growth and the Future of Business,\\n\\nInternational Institute for Strategic Management 2015-2020, and The International Institute for Strategic Management 2025-25.'},\n",
              " {'generated_text': 'Role of online advertising in Business Growth in 2022. The survey indicated that 58% of respondents surveyed believe that online advertising will create jobs, grow the economy and reduce the number of small business owners. As they put it: \"This results in a much less difficult decision between online and traditional. It also produces a much more positive response to online advertising as compared to both conventional and traditional advertising.\"\\n\\nThe survey also indicated that 47% support and 43% oppose the idea that the Internet has reduced the employment of business owners. Even as it is debated in the media, companies continue to choose in their online-advertising campaigns what they deem to be the best business models, and they still make a huge percentage of those that support online advertising.\\n\\nCompanies that favor Internet-based business models are:\\n\\nApple, Amazon, Facebook, Alphabet Inc., Microsoft Company, Skype Holdings Pvt. Ltd., Tencent Holdings Inc., and U.S. Postal Service: 53%, 55%, 34%, 23%, 20% and 24%\\n\\nGoogle+, Amazon.com LLC, and Facebook: 52%, 52%, 46%, 22%, 29%\\n\\nHappily, the Internet doesn\\'t play a big role in American business development, and in the last several years, there are numerous companies that have opted to use the Internet to increase their presence. As we saw with Amazon, this may have to do with the fact that the company\\'s CEO, Jeff Bezos, was asked by a reporter to'}]"
            ]
          },
          "execution_count": 9,
          "metadata": {},
          "output_type": "execute_result"
        }
      ],
      "source": [
        "generator(\"Role of online advertising in Business Growth in 2022.\", max_length = 300,num_return_sequences=3)"
      ]
    },
    {
      "cell_type": "code",
      "execution_count": null,
      "metadata": {
        "colab": {
          "base_uri": "https://localhost:8080/"
        },
        "id": "DhABilZE2pA6",
        "outputId": "f433e9f5-4946-47a1-dee8-84e3fdf59a4c"
      },
      "outputs": [
        {
          "name": "stderr",
          "output_type": "stream",
          "text": [
            "Setting `pad_token_id` to `eos_token_id`:50256 for open-end generation.\n"
          ]
        },
        {
          "data": {
            "text/plain": [
              "[{'generated_text': \"Web Analytics in Digital Marketing.\\n\\nWhat type of analysis do you look for in your clients?\\n\\nAnalytics\\n\\nA comprehensive and accurate analysis in digital marketing provides the core data, insights, and execution for all facets of marketing.\\n\\nWho do you hire?\\n\\nMarketing teams that are driven by research methodology and data. You may be able to help them find out what metrics their specific customers want and execute a business plan.\\n\\nWhere do your clients reside?\\n\\nYour clients may or may not be in London or Chicago.\\n\\nWhy?\\n\\nYou should be focusing on your clients, especially those who may want to know the company's best practices for marketing. Also, if your company does not produce a significant amount of customer data and is not delivering great results, it's because of customer data privacy issues or other issues that you were unaware about before.\"},\n",
              " {'generated_text': \"Web Analytics in Digital Marketing. I'm especially passionate about the use of third party analytics tools and the ability to deploy them on your project in very specific scenarios:\\n\\nWhen you're making a decision to sell your business in digital marketing or selling sales by e-commerce or sales through digital products through multiple platforms like Etsy, Amazon or Facebook, you might have a decision to make that you'll often not understand with your business analytics tools and their effectiveness, at that point you often need a decision on the best way to manage your data, and those are where data is crucial.\\n\\nWith that said, here are some of my most common mistakes you make as the data has grown in popularity and with different analytics tools.\\n\\n3. Don't Make a Strategic Decision of 'What To Do'\\n\\nFor many it's more important that you use the analytics and the tools within the platform that drive your business to succeed. This is important because as the data grows and new people become more connected to online services such as Facebook, it means they can start to communicate quickly with customers, and make a solid decision of where to go for them.\\n\\nWhen someone is online, their current business becomes valuable and if there's an opportunity to sell a product, their business is a little more valuable and there's no reason to sell it to them.\\n\\nThis can be a very tough decision. If you have a small shop and you have an online marketing platform that you can integrate your\"},\n",
              " {'generated_text': 'Web Analytics in Digital Marketing. By: Suresh R. Khannamore. Licensed from the Institute of Marketing Research & Analytics, Inc. ( www.marketshare.com/marketing ), Inc.\\n\\nAdMob.com has launched a mobile analytics toolkit that gives customers the ability to monetize their app and Web ad spending. The app launches on Monday, May 20 at 8:00 am PT/9:00 pm ET. To start, users complete a series of short forms where they can enter their own personal information. In total, a user is given 5 forms for their mobile device to send a \"tip\", as seen on the map of a mobile device, by clicking on any of the icons above. In some places, the app is open all day, just around the clock. To view the app and add mobile analytics to your ad spending, you can use the \\'Marketshare mobile analytics toolkit\\' provided by the online mobile analytics consultancy, AdMob.com.\\n\\nThe Marketshare mobile analytics toolkit has been developed and funded by an Innovative Software Partner. Innovative Solutions for Marketing (INCMS) is a leading company to help companies with mobile analytics, data and data management. For more information about this innovative company, visit www.incmms.com\\n\\nIn this issue:\\n\\nMarketshare Mobile Analytics: How to use the toolkit for mobile analytics in marketing\\n\\nMarketshare Mobile Analytics'}]"
            ]
          },
          "execution_count": 10,
          "metadata": {},
          "output_type": "execute_result"
        }
      ],
      "source": [
        "generator(\"Web Analytics in Digital Marketing.\", max_length = 300,num_return_sequences=3)"
      ]
    },
    {
      "cell_type": "code",
      "execution_count": null,
      "metadata": {
        "colab": {
          "base_uri": "https://localhost:8080/"
        },
        "id": "4Q23ycye8GoF",
        "outputId": "c07bc5f1-a329-4427-a992-e9f49cd2ffbb"
      },
      "outputs": [
        {
          "name": "stderr",
          "output_type": "stream",
          "text": [
            "Setting `pad_token_id` to `eos_token_id`:50256 for open-end generation.\n"
          ]
        },
        {
          "data": {
            "text/plain": [
              "[{'generated_text': 'Content Management and its benifits.\\n\\nHow to Start Using It\\n\\nSo what\\'s happened this week? With all the media attention surrounding Google\\'s \"next big push\" for Android, the recent announcement that it\\'s giving me a brand-new tablet makes sense. At the beginning of the year, we all decided: \"Hey, this should really be more than just Android, it\\'s so awesome!\" The press release did say so:'},\n",
              " {'generated_text': 'Content Management and its benifits.'},\n",
              " {'generated_text': 'Content Management and its benifits.\\n\\nYou should add a list of other methods to help get your clients in a relationship with you. When it comes to the first method, you\\'ll need a list of those methods in your template. The third method can use a list of parameters to get to other parts of the page. It\\'s important that you remember this to remember your template\\'s syntax and include it at the beginning of your template. This can provide some protection in case you need more information about what kind of content you want to include.\\n\\nSo, the other option for me, in order to get to the point where I wanted to move my client to the page where I wanted them and also get a lot of the data I wanted out there and get on that page, is to use the \"template block\" (see in detail this for reference).\\n\\ntemplate <Text, TextData> struct Stable { float main() { auto p; let p = p * 5.0..25.0; p.title = \"Paste text in the form of a table\".setText(p).add(\"\".join(\" \" + p)); } // Change the label of the table auto p = p; // Add a new label auto p.contentData = \"\"; p.contentData.setText(\"table\"); p.contentData.add(\"page-id\"); // Add fields that have been created auto p = p.contentData.setText(\"name\"); }\\n\\nThe template block uses the basic HTML structure described in <TextData> tags and tags. The output from the template blocks uses the same HTML structure we use for other files.\\n\\ntemplate <TextData> inline Stable { int main() { int page(int id) { auto p = p.contentData[0].add(\"\").text(\"\", 1).get().add(); p.title = id; auto p = p.contentData[p.contentData[1]].get(); p.contentData = \"\"; tty = p.contentData[p.contentData[2]].get().encode(id); stxt = vars[id].join(\" \" + id) + \" \" + tty + \" \" + p.title; } } // Change the label auto p = p; auto p.contentData = \"\"; stxt.setText(\"entry\"); stxt.add'}]"
            ]
          },
          "execution_count": 10,
          "metadata": {},
          "output_type": "execute_result"
        }
      ],
      "source": [
        "generator(\"Content Management and its benifits.\", max_length = 500,num_return_sequences=3)"
      ]
    },
    {
      "cell_type": "code",
      "execution_count": null,
      "metadata": {
        "colab": {
          "base_uri": "https://localhost:8080/"
        },
        "id": "KNhSXoFCwny0",
        "outputId": "5858740d-06f8-417e-8137-03e9e7d9138b"
      },
      "outputs": [
        {
          "name": "stderr",
          "output_type": "stream",
          "text": [
            "Setting `pad_token_id` to `eos_token_id`:50256 for open-end generation.\n"
          ]
        },
        {
          "data": {
            "text/plain": [
              "[{'generated_text': \"why search engine optimization is  important for website. Some people are still thinking that I made you this much better today. I need to take a trip out here, but, you know, there was no better place to live to enjoy life. And you have a huge career with that career.\\n\\nI love to come here, you know, because I live in such a gorgeous city. But I have a problem too: I didn't have a home. You know, I didn't live for the money. But you know what I could sell for a lot less? The amount of rent and everything.\\n\\nSo at some point, we have to start rebuilding the city. It's like we spent so much money. And that's what I want to do. I want to fix this problem that started this. But, in the long run, I don't want to make it worse. I want to fix all the problems, it's just...\\n\\n[00:37:37] A: Thanks, Andy, for joining us.\\n\\nKATIE: And we get to talking about how you came up with these kinds of answers.\\n\\n[00:37:42] A: How do you remember when I first met you, John? You were a real, really good person that kind of got in your head that you really could do something to help with the people that needed it the most and I just wanted to get him over there.\\n\"},\n",
              " {'generated_text': 'why search engine optimization is  important for website. Therefore, in order for the SEO industry to become successful, website developers must support it in place.\\n\\n2. Searchengine Optimization should be included in all terms from the SEO to the CMS to the website SEO. So it may not make sense to provide SEO services in the new search engine services, but SEO services should be included in all terms. The same principle applies to the search engine services. The best place for search engine services is from within the CMS. This is because CMS is the most successful category of services in SEO. This is because CMS is the most successful category of services in that case SEO is necessary. It should be mentioned, that only to this, CMS is the most successful category, but Google (Google) is the most successful category, due to a number of reasons. This is because Google has one of three services which make good SEO service, and one of the most efficient in business. It is the one which can offer a decent SEO service. The SEO services is an important element at the main time of SEO, because SEO services will be the reason for many websites being used. In order for the SEO ecosystem to become successful, web application can need to be part of the SEO services. The SEO services is an essential aspect for website because on many websites, Google has one of a number of SEO services that make good SEO service. One of these services is by Google.\\n\\n3. The Search'},\n",
              " {'generated_text': \"why search engine optimization is  important for website.\\n\\nNow you may think, 'Well let's just focus on SEO right now for now'.\\n\\nThat does not mean it doesn't exist.\\n\\nIf SEO were one of the most important skills for an organization, chances are that we would have to find a way to help that one person find his or her passion for what they do.\\n\\nThe most important thing to know about SEO is that it will help the organization to stay relevant.\\n\\nAnd it is crucial that every one of you have a passion for what you do.\\n\\nIf you are currently looking to be an expert on a website, then you know that SEO is critical because it will help you move you forward towards the business.\\n\\nIt will encourage you to improve your website in everything you do.\\n\\nYou will need help with search engine optimization as well and, by the way, it will probably increase your income as well.\\n\\nIf that's the case, then I hope you've reached a decision that has been a huge step for you.\\n\\nFor starters, we need to take some personal responsibility and create a community that can help you grow.\\n\\nBut we can help you to reach the audience that you are looking for, with a team of more than 5 people…\\n\\nWe also need to develop and expand our website and business strategy in the area of business development.\\n\\nIn the most recent financial year,\"}]"
            ]
          },
          "execution_count": 7,
          "metadata": {},
          "output_type": "execute_result"
        }
      ],
      "source": [
        "generator(\"why search engine optimization is  important for website.\", max_length = 300,num_return_sequences=3)"
      ]
    },
    {
      "cell_type": "code",
      "execution_count": null,
      "metadata": {
        "colab": {
          "base_uri": "https://localhost:8080/"
        },
        "id": "7-F4ogqcyDG7",
        "outputId": "55397cd5-f794-40dc-db3c-0530000e45e7"
      },
      "outputs": [
        {
          "output_type": "stream",
          "name": "stderr",
          "text": [
            "Setting `pad_token_id` to `eos_token_id`:50256 for open-end generation.\n"
          ]
        },
        {
          "output_type": "execute_result",
          "data": {
            "text/plain": [
              "[{'generated_text': 'seo in digital marketing.\\n\\nA new startup is making it easier to sell your products.\\n\\nKiva is a company that makes it easier for people who want to be part of their products to reach customers by offering \"first place buys,\" which means they use a service, instead of buying something themselves. It offers users a direct cash refund on how much money they spent to complete the purchase, and gives them a small portion of their purchase when they go to the next store.\\n\\nIt\\'s easy to get people to take advantage of it, and is just taking advantage of the freebies.\\n\\nTo find out more, don\\'t miss the video showing Kiva\\'s new way of selling food (and the video featuring some very great content on it). But don\\'t forget to also try these other free brands you aren\\'t too familiar with:\\n\\nMore great videos on Kiva: \"I Don\\'t Care Where You Get It From: Delicious Kiva Deals So Free to You\"\\n\\n\"How Do I Get Started in Kiva?\": How to Build Better Productivity in your New Career (Watch and Learn)'},\n",
              " {'generated_text': 'seo in digital marketing. The same companies have also created campaigns to sell online content, including the popular Adult Swim comedy series \"The Voice,\" called \"Killer Instinct.\"\\n\\nThe Internet Advertising Bureau said in a statement that Kroll was targeted because its content could potentially be viewed by some customers.\\n\\n\"The fact that an e-commerce company has a lot of exposure to niche interests that are not part of the traditional consumer ecosystem is not a coincidence,\" the statement said.'},\n",
              " {'generated_text': \"seo in digital marketing.\\n\\nWe've had so many great discussions with our customers that I wonder how it was that we have the opportunity to reach them. One of the cool things about using technology is that you can be sure that someone else will appreciate it (even if their phone is not on the list). So we wanted to answer some of the biggest questions for us. Let's start with the first ones and continue in the following sections.\\n\\n\\nRevenue per Visit\\n\\nIn the past few years, we've been able to raise an incredible amount of money for our customers. We now have nearly $13 million in Q1. We spent $10 million to improve our website, and we now have an international team of just over 3 million registered in the United Kingdom, more than any of us have previously raised.\\n\\nRevenue per visit\\n\\nIn Q1, we set the highest level of revenue that we raised for Q1, and also set our global revenues per visit higher, while we also raised a lot of other great metrics – such as: global rankings – and sales volume. In the past few months, we've also launched an eXcel (we're excited about the new eCommerce system), which has been highly popular with new customers, and had more than 130 reviews after launch for our own mobile app. We're also launching an international sales team, which is in the process of meeting your requirements. You can try them out, but I\"}]"
            ]
          },
          "metadata": {},
          "execution_count": 8
        }
      ],
      "source": [
        "generator(\"seo in digital marketing.\", max_length = 300,num_return_sequences=3)"
      ]
    },
    {
      "cell_type": "code",
      "source": [
        "generator(\"seo optimization.\", max_length = 500,num_return_sequences=3)"
      ],
      "metadata": {
        "colab": {
          "base_uri": "https://localhost:8080/"
        },
        "id": "6eAXAiy42t7w",
        "outputId": "cfe437ff-43e8-44bc-f3df-560d808fa966"
      },
      "execution_count": null,
      "outputs": [
        {
          "output_type": "stream",
          "name": "stderr",
          "text": [
            "Setting `pad_token_id` to `eos_token_id`:50256 for open-end generation.\n"
          ]
        },
        {
          "output_type": "execute_result",
          "data": {
            "text/plain": [
              "[{'generated_text': 'seo optimization.\\n\\nTo remove the dependency dependencies which depend on the current application class.\\n\\nIf you have dependencies of:\\n\\nhttp://www.r-project.org/repos/1.1/app/\\n\\nyou would use\\n\\nhttp://www.r-project.org/repos/1.1/dist/\\n\\nhttp://www.r-project.org/repos/1.1/dependencies/\\n\\nIf you do not have the dependencies you would use:\\n\\nhttp://www.r-project.org/dist/distribution/\\n\\nHere is the code for using r-project-src -b -s.\\n\\nReplace app.component.js : app.module.js with @app:app or @app:repos.json after the -s flag is turned on.\\n\\nThis will get you dependencies for all your apps in a subdirectory with some subdirectories available. You can also pass a project name with name() for this.\\n\\n// This is a dependency of @app:app\\n\\nYou can also use -b or -s in place of app.module.js.\\n\\nWhen using r-project-src to build the app you can make sure you have set your.vendor as your project\\'s vendor and the vendor\\'s extension as your application package. This is because this has to do with both of these.\\n\\nNote this doesn\\'t work with application packages since they have to be built with version 1.6.3. This is due to lack of documentation and many bugs have been corrected so you can use this as a starting point, but it\\'s not perfect until you\\'re building your app using the latest (1.6) version.\\n\\nThe code for r-project-src -b has the following changes and changes were added:\\n\\nThis will make the dependencies included in all application projects the default of r-project-src.\\n\\nApp.vendor = the extension for using npm when you build app with v1.6\\n\\nFor projects built during development with v1.6 it will be added as \\'App.version\\' and the \\'package\\' variable will be created as\\'version\\'.\\n\\nReplace app.version with app.vendor\\n\\nApp.package = \"1.6.3/V1.6/vendor/\"'},\n",
              " {'generated_text': 'seo optimization. A recent report by Profs. Dr. William E. Reif and Dr. D. Joseph E. Shulman described the process of optimizing performance in one-off computations: \"The system can then use the performance of an infinite number of data objects in an efficient way.\"\\n\\nA more accurate approximation is that the number of objects that can be efficiently executed is given by the number of points. But if you just keep making assumptions about how fast you could run an algorithm, I\\'m not sure an optimal way to run that program is easy.\\n\\nTo make the calculation more transparent, I introduced two new classes of polynomial optimization: the classical polynomial (for finite-state) optimization (for complex-state), and the traditional classical polynomial (for general-state).\\n\\nThe classical polynomial is a polynomial that can be directly evaluated by the input number of polynomials in the sequence the sequence can be generated. In the classical polynomials we get in some sense the following state: 1 (a polynomial is a polynomial that could be evaluated only by a different source when it is evaluated as a separate function). These state are equivalent to the classical polynomial as a vector, where polynomials can be used to make any choice we might want to make, and the number of possible polynomials on the vector is proportional to the sum of the following state:\\n\\nA polynomial with polynomials 0, 1, and 2 equal to the classical polynomial of 1, 2, or 3 is called a classical polynomial and requires the output polynomial vector. The polynomial with two polynomials equal to the classical polynomial of 1 is referred to as the binary polynomial.\\n\\nA polynomial with the polynomial function with one polynomial equal to the classical polynomial of 1 can be called a classical polynomial and requires the output vector for the polynomial:\\n\\n(with a polynomial with a polynomial expression less than the polynomial of 1 or greater than the polynomial of 2), and one polynomial expression of the form (2π*1.0*1*2).\\n\\nThe classical polynomial is also called a classical polynomial that can have a single and multiple values:'},\n",
              " {'generated_text': 'seo optimization.\\n\\n#32.8.4 Multi-User Server Server Performance Results\\n\\nNo. 2:\\n\\nAll other, non-server workloads use a single \"root\" Linux machine - on Unix, Windows or Linux:\\n\\n#32.8.4.1 Multi-User Server Performance Results\\n\\nNo. 2:\\n\\nLinux users (or machines connected to any other Linux system) must manually switch to any non-root server machine that is running on that machine by hand every single day for at least a year.\\n\\n#32.8.4.2 Multi-User Server Performance Results\\n\\nNo. 2:\\n\\nLinux (or machines connected to any other Linux system) users will need to perform a single-user operation every weekday with a minimum of five \"rebounding machines\" - every day that has to be taken care of when performing any server-level processes:\\n\\n#32.8.4.2 Multi-User Server Performance Results\\n\\nNo. 2:\\n\\nLinux users will perform a single-user operation every weekday for four consecutive days, the day in which the CPU cycle is interrupted.\\n\\n#32.8.4.3 Multi-User Server Performance Results\\n\\nNo. 3:\\n\\nLinux, FreeBSD, and other \"multi-user\" services on a distributed system do not take any extra time:\\n\\n#32.8.4.3 Multi-User Server Performance Results\\n\\nNo. 3:\\n\\nLinux users (or machines connected to other Linux systems) will do a single-user, multi-user operation every weekday, once every six- or seven days, on a distributed server.\\n\\n#32.8.4.4 Workload Load Loads\\n\\nNo. 2:\\n\\nLinux (or machines connected to non-root server machines) will use a single work load every single minute of every day until after it has been done all the time, before stopping at any time for any non-work activity or even for a few hours:\\n\\n#32.8.4.4 Work Load Loads\\n\\nNo. 2:\\n\\nLinux (or machines connected to non-root server machines) will use a single work load every single minute of every day until after it has been done all the time, before stopping at any time for any non-work activity or even for a few hours:\\n\\n'}]"
            ]
          },
          "metadata": {},
          "execution_count": 10
        }
      ]
    },
    {
      "cell_type": "code",
      "source": [
        "generator(\"seo types and its benifits.\", max_length = 500,num_return_sequences=3)"
      ],
      "metadata": {
        "colab": {
          "base_uri": "https://localhost:8080/"
        },
        "id": "b2vTwyBt8piB",
        "outputId": "9d13a541-92ef-46fa-c1fe-2f8acd9d3213"
      },
      "execution_count": null,
      "outputs": [
        {
          "output_type": "stream",
          "name": "stderr",
          "text": [
            "Setting `pad_token_id` to `eos_token_id`:50256 for open-end generation.\n"
          ]
        },
        {
          "output_type": "execute_result",
          "data": {
            "text/plain": [
              "[{'generated_text': \"seo types and its benifits. He also has the perfect combination of wisdom and cunning, knowing everything about the art and life of the Buddha's disciples.\\n\\nThis means that from what his methods have shown him, Buddha was the best of masters at doing his best, and the best of all. That is why he has done his best, even if others may have told him to do nothing with him. However, the results of his practices in practice will come back to haunt him if he does not perform, since they will create some kind of problem or an obstacle along the way.\\n\\nBut it is the ability and the wisdom which are to truly benefit the Dharma and to become well-saved. If they do not have that, they will not be able to benefit from the Dharma and become well-saved. For they will only be able to come to the Buddha by being well-saved.\\n\\nHowever, in the end then, all he can do is to live in peace, to cultivate wisdom and to live with the Buddha so that he can get the benefit that comes from the practice.\\n\\nIt is clear to everyone now that this is not a matter of luck… the best ones will give you the best as long as you look at the result. They all can help you by giving you the best path to practice.\\n\\nIf the Buddha is good, then he will give you wisdom and wisdom and wisdom also. He will see you in the path he is taking to improve his life and the happiness in the world, and there will be a long and happy life that you can do with him.\\n\\nHow to develop wisdom and wisdom and wisdom and wisdom and wisdom.\\n\\nWhat you are doing as you go about practicing meditation and practicing practice, not as those things you read.\\n\\nAll you are actually doing is going about it in a way that will improve your knowledge and will give you the best path to improve your life.\\n\\nYou will look at what the Buddha is doing with his teachings when you are looking for guidance, understanding and wisdom. By looking at that, you will create more things for you that will be better. If the Buddha is happy he will look at the things he has taught and have to learn what he has done, he will learn things that will also be better, so that in the end, he will get better.\\n\\nNot just you but all of us are at\"},\n",
              " {'generated_text': 'seo types and its benifits. For example, the C++ \"bzip2gzip\" style files that use NMP support use a very short file to encode their BSS (bin file of a binary package). However, this doesn\\'t automatically give any extra info on the BSS. Moreover, there are a few people who may use a lot of BSS over their standard binary image. These people, such as R. G. Johnson, make for interesting reading:\\n\\n[...] For me BSS is much more complex. It\\'s very important for my binary applications. [...] If someone has a binary image in their program like R, and they use BSS, if they want their user interface to be different from the standard I use, I will often include it. In fact, while I consider C++ \"a little bit trickier\" (the C++ library to BSS uses standard classes and can be used more easily than any other language on that line, such as C++)\\n\\nThe general rule for BSS was developed before some C++ programmers were trained in BSS and they started to use BSS even more strongly! Some of the BSS documentation was pretty clear in describing where BSS comes from:\\n\\nBSS was initially developed as a project on the C library (for binary libraries) so I had some idea of using BSS during my own program development. I felt that this was a good idea and I decided to keep it that way. With a few years of working on my program, I finally managed to find a BSS-based programming language and I tried my best to improve my BSS in ways that might better suit my needs.\\n\\nYou probably thought I was being overly blunt when I said I didn\\'t want to be overly soft on BSS. But, if you\\'re thinking that this is the only reason BSS can work, here are a few of my thoughts about where BSS falls on the C/C++ continuum\\n\\nBSS is good because there\\'s no third party. If you send your program to a third-party (such as R, C/C++, etc) that has the same header file (which I\\'ve written about and explained at length), and if every part has the same header file (which I wrote about and explained at length), then there\\'s no need to have a third-party service to use BSS.\\n\\nThere are two main'},\n",
              " {'generated_text': 'seo types and its benifits. The following can get you started, you should know all the pros and cons here:\\n\\n\\n1) If you\\'re in a group that includes a big name like BBSM, FBSL, RFA, NCAA, NCAA-CAF, etc., you\\'re free to experiment or work out your own plans. These people and places do give you a good deal in an environment where they\\'re not doing it to win. But if you\\'re at any other big name athletic association, it\\'s very easy to figure out your team and why. (A good way to make sure it fits is to check out their website to see if they have their own program.) There are a couple great examples of this. The Bakersfield program offers an easy way to build a team by being \"bigger, better, more\" than anyone else.\\n\\n2) If you do have the ability to develop a strong reputation from your early workouts, don\\'t let the high point or \"reperfraction\" get you down. Take your team to the next level and start doing things you might not have worked on. It\\'s a great place for starting a new life and helping get started.\\n\\n3) If you find you\\'ll be at least moderately competent at one athletic department or other, give them an excellent chance. As your program grows and your job grows, you\\'ll find that you get more coaching opportunities at local schools (and even in the SEC), so you\\'ll have a better chance at getting involved with your local programs.\\n\\n4) Consider hiring an experienced head coach for your local schools. These head-to-head athletic programs are all great, but the bigger you do the more chance you have of being hired for a position at a particular school. This is not to suggest that there\\'s some kind of guaranteed guarantee-free pay you\\'ll receive as you complete your programs, but the chance you get is always slim for your local program. Consider interviewing for an internship or coaching staff positions. They\\'ve got all the resources you need to run an organization, and you can get some value out of them if you\\'re working your way up to the top of an organization from there.\\n\\n\\n5) Remember how much you value your head coach more if you can recruit him for an opportunity? The odds of winning or getting to know your school or the people you\\'d work with more is pretty darn good. Remember'}]"
            ]
          },
          "metadata": {},
          "execution_count": 11
        }
      ]
    },
    {
      "cell_type": "code",
      "source": [
        "generator(\"search engine optimization methods in online marketing.\", max_length = 500,num_return_sequences=3)"
      ],
      "metadata": {
        "colab": {
          "base_uri": "https://localhost:8080/"
        },
        "id": "L--rO_9E9e1A",
        "outputId": "0a04cb94-f2b4-49b1-edda-cb796a888509"
      },
      "execution_count": null,
      "outputs": [
        {
          "output_type": "stream",
          "name": "stderr",
          "text": [
            "Setting `pad_token_id` to `eos_token_id`:50256 for open-end generation.\n"
          ]
        },
        {
          "output_type": "execute_result",
          "data": {
            "text/plain": [
              "[{'generated_text': 'search engine optimization methods in online marketing.'},\n",
              " {'generated_text': 'search engine optimization methods in online marketing.\\n\\nThe team at Lend It can create high quality training tools for real world applications. It builds and builds on their extensive experience in online marketing to improve a targeted product in their next phase. After two years of developing training to make them as successful as possible, the results are now in.\\n\\nThe Team at Lend It brings real world experience with tools including: automated testing, user experience tests, automatic analytics, real time analytics, and other systems to real customer tracking where customers use their mobile phones and mobile apps to get new business alerts, improve search results, manage campaign data, measure performance, and more.\\n\\nThey are the same team that created mobile SEO through the use of social Media Manager™ and managed campaigns through ROAD, Social Media Audit, Facebook Advertising, and more.\\n\\nFor more information online you can visit www.lendit.com.\\n\\nThe Team at Lend It has been described by the likes of Google and Facebook as \"The only team with the power and confidence to change the way internet commerce is done in the UK\". For more information please visit www.lendit.com\\n\\nMedia Team'},\n",
              " {'generated_text': \"search engine optimization methods in online marketing.\\n\\nAs well as being able to take down a lot of things that are going viral, I also find it a fun to do. While SEO may have been very popular in the past, if you've ever used it, and are still in the middle of a viral campaign, this is something you want to do as soon as possible. This is especially true on social media sites (which in the case of Google, do get it hot).\\n\\nWhile a search engine optimization tool can be valuable for you, it won't be enough to make it stand out to the millions of people who use it on a daily basis.\\n\\nFor starters, Google has taken the opportunity to offer this type of product for free, and offer no upfront licensing or royalties. Rather than waiting for the app to become free on the App Store, Google is now offering it on a rolling basis.\\n\\nThere are a number of different ways to learn how to optimize for search engine optimization. Here are a few I did to help you make sense of some of the things you should know:\\n\\nLearn the Best SEO Tools on Amazon\\n\\nSome basic questions you may want to ask yourself when you start seeing search engine optimization apps.\\n\\nWhy Google is paying $2.5 billion a month for ad space? You can pay to watch someone from Google on Google+.\\n\\nWhat Google's marketing slogan is?\\n\\nI'd like to point out that some people don't realize how many advertising agencies work for big companies. Some people think that the vast majority of our ad business was created in the 80's, and that, of course, we just don't know why.\\n\\nUnfortunately, not enough, and not enough of us realize we can have an enormous impact on advertising value for advertisers, and the business can fall apart.\\n\\nThese days it seems like Google is going to do a large amount of marketing for big brands as well. This is mostly because of Google's decision to not launch mobile ad support in 2012, which was the main reason why Google took a major hit from the App Store, and only ended up being part of the success story of the Google Search service in 2013.\\n\\nWe didn't take this approach well, but it wasn't a bad thing in the end.\\n\\nThis isn't a bad thing in the sense that Google is still making billions of dollars, just like it was with the start-\"}]"
            ]
          },
          "metadata": {},
          "execution_count": 12
        }
      ]
    },
    {
      "cell_type": "code",
      "source": [
        "generator(\"How To Implement SEO Digital Marketing For Maximum Results.\", max_length = 500,num_return_sequences=3)"
      ],
      "metadata": {
        "colab": {
          "base_uri": "https://localhost:8080/"
        },
        "id": "5QT-PopATlXR",
        "outputId": "900c9519-ab04-4224-b09a-5ae40ddc7fc3"
      },
      "execution_count": null,
      "outputs": [
        {
          "output_type": "stream",
          "name": "stderr",
          "text": [
            "Setting `pad_token_id` to `eos_token_id`:50256 for open-end generation.\n"
          ]
        },
        {
          "output_type": "execute_result",
          "data": {
            "text/plain": [
              "[{'generated_text': 'How To Implement SEO Digital Marketing For Maximum Results.\\n\\nAs we\\'ve recently seen there is a lot of SEO that need to be done. This includes:\\n\\nUnderstanding digital marketing\\'s impact in real-time on SEO\\n\\nIdentifying areas where digital marketing should be done differently\\n\\nKnowing what is needed when it will happen\\n\\nWorking on the problem\\n\\nKnowing if the solution in the first place works for you and what others think\\n\\nHow Digital Marketing and SEO for the Purpose Of Your Marketing Growth is Working\\n\\nIn my previous series I laid out the digital marketing techniques that you need to know to do the right thing to generate positive responses to your digital advertising strategy. I have not come up with any specific recommendations and instead just explained the best of what could be done. It\\'s important to know that all of these aspects must be thoroughly applied within the digital marketing environment so that you can implement them within the industry.\\n\\nI have written before that these steps in one step, one way and one method must be well understood and executed so that you can move forward into the future.\\n\\nThe first step in digital marketing marketing is to find a way to help you and your audience understand the value and importance of each individual tactic and their specific application.\\n\\nOne of the most important areas for digital marketing marketing is a \"how\" or how-to video. Because so little awareness about the specific issues and problems of digital advertising is available online for consumers to navigate, online video can be the way to really address those issues. To fully understand this technique, you must understand the main issues with digital monetization. It is an area where you and your audience must both know what works best for them and what doesn\\'t. That\\'s where video is most of the way to go.\\n\\nBut when you are starting out and get your hands on the basics of YouTube and YouTube Video is the ideal choice for your SEO audience. It is actually a good place for you to start by learning this technology for yourself!\\n\\nThis is where your keywords will have much-needed relevance. These keywords will help you identify what your target audience will need and where their interests lie.\\n\\nTo make sure you know this and that you will have your target audience\\'s own goals, you will need to start with a simple video. This really isn\\'t a game changer; you need to learn what the target audience for these videos is. As a video creator, I'},\n",
              " {'generated_text': \"How To Implement SEO Digital Marketing For Maximum Results. As an SEO consultant, you likely understand, how to run a digital marketing campaign on your own websites. Even if you don't know what SEO means.\\n\\nHow SEO Digital Marketing For Maximum Results. As an SEO consultant, you likely understand, how to run a digital marketing campaign on your own websites. Even if you don't know what SEO means. How To Do It Right In Your Landing Page. This guide will cover all the different steps to run a digital marketing campaign so you have the best chances of accomplishing what you set out to do.\\n\\nYou'll learn all of the different steps to run a digital marketing campaign so you have the best chances of accomplishing what you set out to do. How To Make A New Landing Page A Successful Website. As a professional, you'll need a new landing page that you can maintain with no modifications to your existing site.\\n\\nThis guide will cover all the different steps to run a digital marketing campaign so you have the best chances of accomplishing what you set out to do. How To Set Up Your Landing Page The way to start a new landing page is with an online copy of the landing page.\\n\\nThe way to start a new landing page is with an online copy of the landing page. How To Get Into A Google Ad Engine. You'll need to get your Google Ad Engine (G.E.) in place before you can run your ad for your website. It's also important to get your Ad Pages up and running every single time, which can make your site feel like more of a competitor. Learn how your Web Site should be different from one another.\\n\\nYou'll need to get your Google Ad Engine (G.E.) in place before you can run your ad for your website. It's also important to get your Ad Pages up and running every single time, which can make your site feel like more of a competitor. Learn how your Web Site should be different from one another. How To Create A Successful Ad URL.\\n\\nYour search queries will include:\\n\\nWhat is the primary brand you're searching for so that we can reach you.\\n\\nWhat is the primary brand you're searching for so that we can reach you. What are the keywords for which you wanted to search.\\n\\nWhat is the type of keyword you want to search because it has something to say about you.\\n\\nIf you have some\"},\n",
              " {'generated_text': 'How To Implement SEO Digital Marketing For Maximum Results.\\n\\nIf you want a quick step-by-step guide to successfully building a digital marketing strategy, check out this excellent post by Mark O\\'Neil. You will gain great insight into some of the common techniques that lead to successful digital marketing.\\n\\nGet Started With SEO Digital Marketing\\n\\nThe two most obvious steps are to find your keyword and to search for it in your domain. One of the best and most common ways to find your keyword by using Google is a search query string called \"search term\". This search is a form of search for a certain keyword and the keyword can be a keyword, a description, or an URL.\\n\\nOnce you find one, the search string will be submitted to your site, which can either include an SEO URL on the page, or a URL directly from your site that you can then redirect to. Once your keywords are entered in the search string, the site will automatically generate the correct URL for the search term. So the SEO keyword is used for your first page, a search query string, and any other parameters you may have.\\n\\nThe SEO keyword is also used for your email and text, just like you would use URL parameters like \"http://\", \"domainname.com\", \"user.com\", and so on. We have to be clear here: this is only being used for search terms like \"cookies\" (the things that are on your website and not on any other content on your site), \"domain/http\", and so on. All of the other keywords will be added automatically within 10 minutes.\\n\\nYou can easily search for an SEO keyword using this simple template.\\n\\nOnce you are done, you can type this in your site\\'s search bar and the first page will show you all of the keywords. The next time you click on any of those links, a pop-up window will come on that will tell you the keywords of your first page. The search result will change to whatever keyword you were looking for when you were looking for the search term.\\n\\nOnce you have made this first step, it\\'s time to put your keywords on your own site and build your brand. This has the potential to transform your site into one that is attractive to people.\\n\\nAnd remember, it also has the potential to increase your return on your investment.\\n\\nHow to Optimize Branding and SEO on a Website to Keep'}]"
            ]
          },
          "metadata": {},
          "execution_count": 13
        }
      ]
    },
    {
      "cell_type": "code",
      "source": [
        "generator(\"How to Leverage SEO Digital Marketing To Grow Your Business.\", max_length = 500,num_return_sequences=3)"
      ],
      "metadata": {
        "colab": {
          "base_uri": "https://localhost:8080/"
        },
        "id": "8KiUiJTsVphY",
        "outputId": "654b37e3-4334-4f9d-cfb5-62466cfe3c09"
      },
      "execution_count": null,
      "outputs": [
        {
          "output_type": "stream",
          "name": "stderr",
          "text": [
            "Setting `pad_token_id` to `eos_token_id`:50256 for open-end generation.\n"
          ]
        },
        {
          "output_type": "execute_result",
          "data": {
            "text/plain": [
              "[{'generated_text': 'How to Leverage SEO Digital Marketing To Grow Your Business.\\n\\n\"Policies to build a business on SEO are not only based on an intellectual formula, but they also do not depend on data collected for marketing purposes.\" —\\n\\n\"If we are not doing enough, you may become confused what it is we are doing.\" —\\n\\n\"If it sounds too good to be true, it could be the truth.\" —\\n\\n\"It doesn\\'t matter what the outcome is.\" —'},\n",
              " {'generated_text': \"How to Leverage SEO Digital Marketing To Grow Your Business.\\n\\nIf you didn't see this one at our SEO Conference, you don't have it.\\n\\nHere's what Google Analytics has to say about it:\\n\\nGoogle Analytics\\n\\nIf you have a Google Analytics account, you probably have more than enough traffic to make your business happen faster.\\n\\nIn this book we will tell you how the company gets new customers through different strategies to grow their business. We will also go into more detail about what's involved in trying to build Google Analytics, the difference between SEO and social reach, your website and all those other big things you need to know about building your business.\\n\\nBut before we get started, you may want to check out my other SEO Resources, too:\\n\\nSome of these more technical booklets help you with SEO Marketing in general, but they can also help you with SEO SEO in particular.\\n\\nSo I hope you enjoyed this post as much as I did.\\n\\nRelated Posts that you would like to read:\\n\\nHow to Learn SEO Training.\\n\\nHow to Launch a Business in 10 days.\\n\\nHow to Maximize Your Search Traffic from 5,000+ Visitors a day.\\n\\nHow to Optimize Your Business in 12-16 Hours!\\n\\nWhy Google Analytics can save you thousands!\\n\\nHow to Learn SEO on Your Mobile.\\n\\nHow to Leverage Search Domains for Google Analytics.\\n\\nWhy is it important you get an SEO account?\\n\\nLike this: Like Loading...\"},\n",
              " {'generated_text': 'How to Leverage SEO Digital Marketing To Grow Your Business.\\n\\nMany organizations and entrepreneurs use SEO to recruit and retain potential clients. If you are looking for a business partner in SEO, we are the number one place that you can find them.\\n\\nYou need a place to start investing into your business. Let\\'s say you\\'re looking for your business partner to go through three months of searching, building out your website, and running your business. Your search for SEO will begin the day that you hire the business partner. If you\\'re a small business interested in launching your business, be assured there is room in your search engine to hire them.\\n\\nSome big names can be in the SEO consulting business if they can make the transition on their own…and it\\'s a great option if they have money to throw at it. While this can take time, it can certainly come through in the end.\\n\\nIf you\\'re looking to hire someone to go through three months of SEO search, there are several SEO services that can be helpful.\\n\\nOne that makes SEO work (the company I researched before, COO) is SEO Marketing Manager.\\n\\nUnlike most SEO services, a COO is not a specialist in SEO. Rather, they go through an intensive SEO practice with their team. If you get a good interview session for a job, you\\'re set for success — even if you\\'re not experienced SEO.\\n\\nA successful COO can make the transition into the SEO consulting business within 48-72 hours. If their experience is not as good as mine, they can turn that into a career and succeed!\\n\\nWhy do all this SEO work?\\n\\nThe SEO SEO work is done by the COO team. Before a particular company can hire an SEO consultant and start working on new business propositions, the COO team is ready to discuss the possibilities that could become a business from his or her position.\\n\\nThe COO will also look into SEO keywords like \"organic\" or \"organic marketing\" and then give the company feedback on various Google search results that are related to the keyword. The COO can then be the first person to contact the company to ask it to identify a better SEO service that can improve their return on investment.\\n\\nTo get more SEO and organic SEO, let\\'s look at my business in one step.\\n\\nIf you are starting a business, you need something the first time you hire an SEO agent. As'}]"
            ]
          },
          "metadata": {},
          "execution_count": 14
        }
      ]
    }
  ],
  "metadata": {
    "colab": {
      "provenance": [],
      "authorship_tag": "ABX9TyM3I3+lwKlJWb1AoHgO0Xcu",
      "include_colab_link": true
    },
    "kernelspec": {
      "display_name": "Python 3",
      "name": "python3"
    },
    "language_info": {
      "name": "python"
    },
    "widgets": {
      "application/vnd.jupyter.widget-state+json": {
        "b76598f138b2410688833b1341f996e5": {
          "model_module": "@jupyter-widgets/controls",
          "model_name": "HBoxModel",
          "model_module_version": "1.5.0",
          "state": {
            "_dom_classes": [],
            "_model_module": "@jupyter-widgets/controls",
            "_model_module_version": "1.5.0",
            "_model_name": "HBoxModel",
            "_view_count": null,
            "_view_module": "@jupyter-widgets/controls",
            "_view_module_version": "1.5.0",
            "_view_name": "HBoxView",
            "box_style": "",
            "children": [
              "IPY_MODEL_f53c01ee2d044f138d40aa232b9128c0",
              "IPY_MODEL_557a62493ffb4660a79a6461712cf3c6",
              "IPY_MODEL_b49505c16b314f19a687775b2d8cff2a"
            ],
            "layout": "IPY_MODEL_4dfbf9a4db364ac0a5f88f4a6f2a2ca8"
          }
        },
        "f53c01ee2d044f138d40aa232b9128c0": {
          "model_module": "@jupyter-widgets/controls",
          "model_name": "HTMLModel",
          "model_module_version": "1.5.0",
          "state": {
            "_dom_classes": [],
            "_model_module": "@jupyter-widgets/controls",
            "_model_module_version": "1.5.0",
            "_model_name": "HTMLModel",
            "_view_count": null,
            "_view_module": "@jupyter-widgets/controls",
            "_view_module_version": "1.5.0",
            "_view_name": "HTMLView",
            "description": "",
            "description_tooltip": null,
            "layout": "IPY_MODEL_08788cdf7d794056b3469be9783a9c87",
            "placeholder": "​",
            "style": "IPY_MODEL_e640eadee69949da89a0d1a023151457",
            "value": "Downloading: 100%"
          }
        },
        "557a62493ffb4660a79a6461712cf3c6": {
          "model_module": "@jupyter-widgets/controls",
          "model_name": "FloatProgressModel",
          "model_module_version": "1.5.0",
          "state": {
            "_dom_classes": [],
            "_model_module": "@jupyter-widgets/controls",
            "_model_module_version": "1.5.0",
            "_model_name": "FloatProgressModel",
            "_view_count": null,
            "_view_module": "@jupyter-widgets/controls",
            "_view_module_version": "1.5.0",
            "_view_name": "ProgressView",
            "bar_style": "success",
            "description": "",
            "description_tooltip": null,
            "layout": "IPY_MODEL_2ec589b0107b4434a98817ac67ed09d2",
            "max": 665,
            "min": 0,
            "orientation": "horizontal",
            "style": "IPY_MODEL_add401e084e14fc4a0d3ab0c05141dec",
            "value": 665
          }
        },
        "b49505c16b314f19a687775b2d8cff2a": {
          "model_module": "@jupyter-widgets/controls",
          "model_name": "HTMLModel",
          "model_module_version": "1.5.0",
          "state": {
            "_dom_classes": [],
            "_model_module": "@jupyter-widgets/controls",
            "_model_module_version": "1.5.0",
            "_model_name": "HTMLModel",
            "_view_count": null,
            "_view_module": "@jupyter-widgets/controls",
            "_view_module_version": "1.5.0",
            "_view_name": "HTMLView",
            "description": "",
            "description_tooltip": null,
            "layout": "IPY_MODEL_b93a186f33b1485dadce7da516173a96",
            "placeholder": "​",
            "style": "IPY_MODEL_7882c45a293740318d6f4280d3813430",
            "value": " 665/665 [00:00&lt;00:00, 5.47kB/s]"
          }
        },
        "4dfbf9a4db364ac0a5f88f4a6f2a2ca8": {
          "model_module": "@jupyter-widgets/base",
          "model_name": "LayoutModel",
          "model_module_version": "1.2.0",
          "state": {
            "_model_module": "@jupyter-widgets/base",
            "_model_module_version": "1.2.0",
            "_model_name": "LayoutModel",
            "_view_count": null,
            "_view_module": "@jupyter-widgets/base",
            "_view_module_version": "1.2.0",
            "_view_name": "LayoutView",
            "align_content": null,
            "align_items": null,
            "align_self": null,
            "border": null,
            "bottom": null,
            "display": null,
            "flex": null,
            "flex_flow": null,
            "grid_area": null,
            "grid_auto_columns": null,
            "grid_auto_flow": null,
            "grid_auto_rows": null,
            "grid_column": null,
            "grid_gap": null,
            "grid_row": null,
            "grid_template_areas": null,
            "grid_template_columns": null,
            "grid_template_rows": null,
            "height": null,
            "justify_content": null,
            "justify_items": null,
            "left": null,
            "margin": null,
            "max_height": null,
            "max_width": null,
            "min_height": null,
            "min_width": null,
            "object_fit": null,
            "object_position": null,
            "order": null,
            "overflow": null,
            "overflow_x": null,
            "overflow_y": null,
            "padding": null,
            "right": null,
            "top": null,
            "visibility": null,
            "width": null
          }
        },
        "08788cdf7d794056b3469be9783a9c87": {
          "model_module": "@jupyter-widgets/base",
          "model_name": "LayoutModel",
          "model_module_version": "1.2.0",
          "state": {
            "_model_module": "@jupyter-widgets/base",
            "_model_module_version": "1.2.0",
            "_model_name": "LayoutModel",
            "_view_count": null,
            "_view_module": "@jupyter-widgets/base",
            "_view_module_version": "1.2.0",
            "_view_name": "LayoutView",
            "align_content": null,
            "align_items": null,
            "align_self": null,
            "border": null,
            "bottom": null,
            "display": null,
            "flex": null,
            "flex_flow": null,
            "grid_area": null,
            "grid_auto_columns": null,
            "grid_auto_flow": null,
            "grid_auto_rows": null,
            "grid_column": null,
            "grid_gap": null,
            "grid_row": null,
            "grid_template_areas": null,
            "grid_template_columns": null,
            "grid_template_rows": null,
            "height": null,
            "justify_content": null,
            "justify_items": null,
            "left": null,
            "margin": null,
            "max_height": null,
            "max_width": null,
            "min_height": null,
            "min_width": null,
            "object_fit": null,
            "object_position": null,
            "order": null,
            "overflow": null,
            "overflow_x": null,
            "overflow_y": null,
            "padding": null,
            "right": null,
            "top": null,
            "visibility": null,
            "width": null
          }
        },
        "e640eadee69949da89a0d1a023151457": {
          "model_module": "@jupyter-widgets/controls",
          "model_name": "DescriptionStyleModel",
          "model_module_version": "1.5.0",
          "state": {
            "_model_module": "@jupyter-widgets/controls",
            "_model_module_version": "1.5.0",
            "_model_name": "DescriptionStyleModel",
            "_view_count": null,
            "_view_module": "@jupyter-widgets/base",
            "_view_module_version": "1.2.0",
            "_view_name": "StyleView",
            "description_width": ""
          }
        },
        "2ec589b0107b4434a98817ac67ed09d2": {
          "model_module": "@jupyter-widgets/base",
          "model_name": "LayoutModel",
          "model_module_version": "1.2.0",
          "state": {
            "_model_module": "@jupyter-widgets/base",
            "_model_module_version": "1.2.0",
            "_model_name": "LayoutModel",
            "_view_count": null,
            "_view_module": "@jupyter-widgets/base",
            "_view_module_version": "1.2.0",
            "_view_name": "LayoutView",
            "align_content": null,
            "align_items": null,
            "align_self": null,
            "border": null,
            "bottom": null,
            "display": null,
            "flex": null,
            "flex_flow": null,
            "grid_area": null,
            "grid_auto_columns": null,
            "grid_auto_flow": null,
            "grid_auto_rows": null,
            "grid_column": null,
            "grid_gap": null,
            "grid_row": null,
            "grid_template_areas": null,
            "grid_template_columns": null,
            "grid_template_rows": null,
            "height": null,
            "justify_content": null,
            "justify_items": null,
            "left": null,
            "margin": null,
            "max_height": null,
            "max_width": null,
            "min_height": null,
            "min_width": null,
            "object_fit": null,
            "object_position": null,
            "order": null,
            "overflow": null,
            "overflow_x": null,
            "overflow_y": null,
            "padding": null,
            "right": null,
            "top": null,
            "visibility": null,
            "width": null
          }
        },
        "add401e084e14fc4a0d3ab0c05141dec": {
          "model_module": "@jupyter-widgets/controls",
          "model_name": "ProgressStyleModel",
          "model_module_version": "1.5.0",
          "state": {
            "_model_module": "@jupyter-widgets/controls",
            "_model_module_version": "1.5.0",
            "_model_name": "ProgressStyleModel",
            "_view_count": null,
            "_view_module": "@jupyter-widgets/base",
            "_view_module_version": "1.2.0",
            "_view_name": "StyleView",
            "bar_color": null,
            "description_width": ""
          }
        },
        "b93a186f33b1485dadce7da516173a96": {
          "model_module": "@jupyter-widgets/base",
          "model_name": "LayoutModel",
          "model_module_version": "1.2.0",
          "state": {
            "_model_module": "@jupyter-widgets/base",
            "_model_module_version": "1.2.0",
            "_model_name": "LayoutModel",
            "_view_count": null,
            "_view_module": "@jupyter-widgets/base",
            "_view_module_version": "1.2.0",
            "_view_name": "LayoutView",
            "align_content": null,
            "align_items": null,
            "align_self": null,
            "border": null,
            "bottom": null,
            "display": null,
            "flex": null,
            "flex_flow": null,
            "grid_area": null,
            "grid_auto_columns": null,
            "grid_auto_flow": null,
            "grid_auto_rows": null,
            "grid_column": null,
            "grid_gap": null,
            "grid_row": null,
            "grid_template_areas": null,
            "grid_template_columns": null,
            "grid_template_rows": null,
            "height": null,
            "justify_content": null,
            "justify_items": null,
            "left": null,
            "margin": null,
            "max_height": null,
            "max_width": null,
            "min_height": null,
            "min_width": null,
            "object_fit": null,
            "object_position": null,
            "order": null,
            "overflow": null,
            "overflow_x": null,
            "overflow_y": null,
            "padding": null,
            "right": null,
            "top": null,
            "visibility": null,
            "width": null
          }
        },
        "7882c45a293740318d6f4280d3813430": {
          "model_module": "@jupyter-widgets/controls",
          "model_name": "DescriptionStyleModel",
          "model_module_version": "1.5.0",
          "state": {
            "_model_module": "@jupyter-widgets/controls",
            "_model_module_version": "1.5.0",
            "_model_name": "DescriptionStyleModel",
            "_view_count": null,
            "_view_module": "@jupyter-widgets/base",
            "_view_module_version": "1.2.0",
            "_view_name": "StyleView",
            "description_width": ""
          }
        },
        "47cd101937934f048b25eaafbd2ed15c": {
          "model_module": "@jupyter-widgets/controls",
          "model_name": "HBoxModel",
          "model_module_version": "1.5.0",
          "state": {
            "_dom_classes": [],
            "_model_module": "@jupyter-widgets/controls",
            "_model_module_version": "1.5.0",
            "_model_name": "HBoxModel",
            "_view_count": null,
            "_view_module": "@jupyter-widgets/controls",
            "_view_module_version": "1.5.0",
            "_view_name": "HBoxView",
            "box_style": "",
            "children": [
              "IPY_MODEL_01d3c37c331140948a452cac276e86d8",
              "IPY_MODEL_03487eaff656470398063551384f65a8",
              "IPY_MODEL_491630ddf82440398634c7ce85f1ed21"
            ],
            "layout": "IPY_MODEL_71752b6820ca47a9a8f9ee71079481ec"
          }
        },
        "01d3c37c331140948a452cac276e86d8": {
          "model_module": "@jupyter-widgets/controls",
          "model_name": "HTMLModel",
          "model_module_version": "1.5.0",
          "state": {
            "_dom_classes": [],
            "_model_module": "@jupyter-widgets/controls",
            "_model_module_version": "1.5.0",
            "_model_name": "HTMLModel",
            "_view_count": null,
            "_view_module": "@jupyter-widgets/controls",
            "_view_module_version": "1.5.0",
            "_view_name": "HTMLView",
            "description": "",
            "description_tooltip": null,
            "layout": "IPY_MODEL_cc28cb20a8414aae944177957dccf592",
            "placeholder": "​",
            "style": "IPY_MODEL_d17bd4ce295a4a4c87c4afe60fec134b",
            "value": "Downloading: 100%"
          }
        },
        "03487eaff656470398063551384f65a8": {
          "model_module": "@jupyter-widgets/controls",
          "model_name": "FloatProgressModel",
          "model_module_version": "1.5.0",
          "state": {
            "_dom_classes": [],
            "_model_module": "@jupyter-widgets/controls",
            "_model_module_version": "1.5.0",
            "_model_name": "FloatProgressModel",
            "_view_count": null,
            "_view_module": "@jupyter-widgets/controls",
            "_view_module_version": "1.5.0",
            "_view_name": "ProgressView",
            "bar_style": "success",
            "description": "",
            "description_tooltip": null,
            "layout": "IPY_MODEL_f2adfabb9b734eb0ba7ba58b85fce24f",
            "max": 548118077,
            "min": 0,
            "orientation": "horizontal",
            "style": "IPY_MODEL_ba91553cfca54b7187417a8f8757dbc9",
            "value": 548118077
          }
        },
        "491630ddf82440398634c7ce85f1ed21": {
          "model_module": "@jupyter-widgets/controls",
          "model_name": "HTMLModel",
          "model_module_version": "1.5.0",
          "state": {
            "_dom_classes": [],
            "_model_module": "@jupyter-widgets/controls",
            "_model_module_version": "1.5.0",
            "_model_name": "HTMLModel",
            "_view_count": null,
            "_view_module": "@jupyter-widgets/controls",
            "_view_module_version": "1.5.0",
            "_view_name": "HTMLView",
            "description": "",
            "description_tooltip": null,
            "layout": "IPY_MODEL_554a7f24242d4558aa3f0a66e8f8c338",
            "placeholder": "​",
            "style": "IPY_MODEL_80f53c5c036c4f97bb75e79f22710922",
            "value": " 548M/548M [00:16&lt;00:00, 68.2MB/s]"
          }
        },
        "71752b6820ca47a9a8f9ee71079481ec": {
          "model_module": "@jupyter-widgets/base",
          "model_name": "LayoutModel",
          "model_module_version": "1.2.0",
          "state": {
            "_model_module": "@jupyter-widgets/base",
            "_model_module_version": "1.2.0",
            "_model_name": "LayoutModel",
            "_view_count": null,
            "_view_module": "@jupyter-widgets/base",
            "_view_module_version": "1.2.0",
            "_view_name": "LayoutView",
            "align_content": null,
            "align_items": null,
            "align_self": null,
            "border": null,
            "bottom": null,
            "display": null,
            "flex": null,
            "flex_flow": null,
            "grid_area": null,
            "grid_auto_columns": null,
            "grid_auto_flow": null,
            "grid_auto_rows": null,
            "grid_column": null,
            "grid_gap": null,
            "grid_row": null,
            "grid_template_areas": null,
            "grid_template_columns": null,
            "grid_template_rows": null,
            "height": null,
            "justify_content": null,
            "justify_items": null,
            "left": null,
            "margin": null,
            "max_height": null,
            "max_width": null,
            "min_height": null,
            "min_width": null,
            "object_fit": null,
            "object_position": null,
            "order": null,
            "overflow": null,
            "overflow_x": null,
            "overflow_y": null,
            "padding": null,
            "right": null,
            "top": null,
            "visibility": null,
            "width": null
          }
        },
        "cc28cb20a8414aae944177957dccf592": {
          "model_module": "@jupyter-widgets/base",
          "model_name": "LayoutModel",
          "model_module_version": "1.2.0",
          "state": {
            "_model_module": "@jupyter-widgets/base",
            "_model_module_version": "1.2.0",
            "_model_name": "LayoutModel",
            "_view_count": null,
            "_view_module": "@jupyter-widgets/base",
            "_view_module_version": "1.2.0",
            "_view_name": "LayoutView",
            "align_content": null,
            "align_items": null,
            "align_self": null,
            "border": null,
            "bottom": null,
            "display": null,
            "flex": null,
            "flex_flow": null,
            "grid_area": null,
            "grid_auto_columns": null,
            "grid_auto_flow": null,
            "grid_auto_rows": null,
            "grid_column": null,
            "grid_gap": null,
            "grid_row": null,
            "grid_template_areas": null,
            "grid_template_columns": null,
            "grid_template_rows": null,
            "height": null,
            "justify_content": null,
            "justify_items": null,
            "left": null,
            "margin": null,
            "max_height": null,
            "max_width": null,
            "min_height": null,
            "min_width": null,
            "object_fit": null,
            "object_position": null,
            "order": null,
            "overflow": null,
            "overflow_x": null,
            "overflow_y": null,
            "padding": null,
            "right": null,
            "top": null,
            "visibility": null,
            "width": null
          }
        },
        "d17bd4ce295a4a4c87c4afe60fec134b": {
          "model_module": "@jupyter-widgets/controls",
          "model_name": "DescriptionStyleModel",
          "model_module_version": "1.5.0",
          "state": {
            "_model_module": "@jupyter-widgets/controls",
            "_model_module_version": "1.5.0",
            "_model_name": "DescriptionStyleModel",
            "_view_count": null,
            "_view_module": "@jupyter-widgets/base",
            "_view_module_version": "1.2.0",
            "_view_name": "StyleView",
            "description_width": ""
          }
        },
        "f2adfabb9b734eb0ba7ba58b85fce24f": {
          "model_module": "@jupyter-widgets/base",
          "model_name": "LayoutModel",
          "model_module_version": "1.2.0",
          "state": {
            "_model_module": "@jupyter-widgets/base",
            "_model_module_version": "1.2.0",
            "_model_name": "LayoutModel",
            "_view_count": null,
            "_view_module": "@jupyter-widgets/base",
            "_view_module_version": "1.2.0",
            "_view_name": "LayoutView",
            "align_content": null,
            "align_items": null,
            "align_self": null,
            "border": null,
            "bottom": null,
            "display": null,
            "flex": null,
            "flex_flow": null,
            "grid_area": null,
            "grid_auto_columns": null,
            "grid_auto_flow": null,
            "grid_auto_rows": null,
            "grid_column": null,
            "grid_gap": null,
            "grid_row": null,
            "grid_template_areas": null,
            "grid_template_columns": null,
            "grid_template_rows": null,
            "height": null,
            "justify_content": null,
            "justify_items": null,
            "left": null,
            "margin": null,
            "max_height": null,
            "max_width": null,
            "min_height": null,
            "min_width": null,
            "object_fit": null,
            "object_position": null,
            "order": null,
            "overflow": null,
            "overflow_x": null,
            "overflow_y": null,
            "padding": null,
            "right": null,
            "top": null,
            "visibility": null,
            "width": null
          }
        },
        "ba91553cfca54b7187417a8f8757dbc9": {
          "model_module": "@jupyter-widgets/controls",
          "model_name": "ProgressStyleModel",
          "model_module_version": "1.5.0",
          "state": {
            "_model_module": "@jupyter-widgets/controls",
            "_model_module_version": "1.5.0",
            "_model_name": "ProgressStyleModel",
            "_view_count": null,
            "_view_module": "@jupyter-widgets/base",
            "_view_module_version": "1.2.0",
            "_view_name": "StyleView",
            "bar_color": null,
            "description_width": ""
          }
        },
        "554a7f24242d4558aa3f0a66e8f8c338": {
          "model_module": "@jupyter-widgets/base",
          "model_name": "LayoutModel",
          "model_module_version": "1.2.0",
          "state": {
            "_model_module": "@jupyter-widgets/base",
            "_model_module_version": "1.2.0",
            "_model_name": "LayoutModel",
            "_view_count": null,
            "_view_module": "@jupyter-widgets/base",
            "_view_module_version": "1.2.0",
            "_view_name": "LayoutView",
            "align_content": null,
            "align_items": null,
            "align_self": null,
            "border": null,
            "bottom": null,
            "display": null,
            "flex": null,
            "flex_flow": null,
            "grid_area": null,
            "grid_auto_columns": null,
            "grid_auto_flow": null,
            "grid_auto_rows": null,
            "grid_column": null,
            "grid_gap": null,
            "grid_row": null,
            "grid_template_areas": null,
            "grid_template_columns": null,
            "grid_template_rows": null,
            "height": null,
            "justify_content": null,
            "justify_items": null,
            "left": null,
            "margin": null,
            "max_height": null,
            "max_width": null,
            "min_height": null,
            "min_width": null,
            "object_fit": null,
            "object_position": null,
            "order": null,
            "overflow": null,
            "overflow_x": null,
            "overflow_y": null,
            "padding": null,
            "right": null,
            "top": null,
            "visibility": null,
            "width": null
          }
        },
        "80f53c5c036c4f97bb75e79f22710922": {
          "model_module": "@jupyter-widgets/controls",
          "model_name": "DescriptionStyleModel",
          "model_module_version": "1.5.0",
          "state": {
            "_model_module": "@jupyter-widgets/controls",
            "_model_module_version": "1.5.0",
            "_model_name": "DescriptionStyleModel",
            "_view_count": null,
            "_view_module": "@jupyter-widgets/base",
            "_view_module_version": "1.2.0",
            "_view_name": "StyleView",
            "description_width": ""
          }
        },
        "264bad480b64449f8b46bfa14c083f06": {
          "model_module": "@jupyter-widgets/controls",
          "model_name": "HBoxModel",
          "model_module_version": "1.5.0",
          "state": {
            "_dom_classes": [],
            "_model_module": "@jupyter-widgets/controls",
            "_model_module_version": "1.5.0",
            "_model_name": "HBoxModel",
            "_view_count": null,
            "_view_module": "@jupyter-widgets/controls",
            "_view_module_version": "1.5.0",
            "_view_name": "HBoxView",
            "box_style": "",
            "children": [
              "IPY_MODEL_224f4de7136347deb14b665145224f4a",
              "IPY_MODEL_104f1dc23be042b78d0edb60222e4a6c",
              "IPY_MODEL_725e8726dd0a4fe0af5c4764f8ba33db"
            ],
            "layout": "IPY_MODEL_f5597a8dd84d4a13b1ff56795d8c0202"
          }
        },
        "224f4de7136347deb14b665145224f4a": {
          "model_module": "@jupyter-widgets/controls",
          "model_name": "HTMLModel",
          "model_module_version": "1.5.0",
          "state": {
            "_dom_classes": [],
            "_model_module": "@jupyter-widgets/controls",
            "_model_module_version": "1.5.0",
            "_model_name": "HTMLModel",
            "_view_count": null,
            "_view_module": "@jupyter-widgets/controls",
            "_view_module_version": "1.5.0",
            "_view_name": "HTMLView",
            "description": "",
            "description_tooltip": null,
            "layout": "IPY_MODEL_9497ca27d942435ea175ebdcf207dca1",
            "placeholder": "​",
            "style": "IPY_MODEL_6ea68a589fd740aaa4bec9acee845923",
            "value": "Downloading: 100%"
          }
        },
        "104f1dc23be042b78d0edb60222e4a6c": {
          "model_module": "@jupyter-widgets/controls",
          "model_name": "FloatProgressModel",
          "model_module_version": "1.5.0",
          "state": {
            "_dom_classes": [],
            "_model_module": "@jupyter-widgets/controls",
            "_model_module_version": "1.5.0",
            "_model_name": "FloatProgressModel",
            "_view_count": null,
            "_view_module": "@jupyter-widgets/controls",
            "_view_module_version": "1.5.0",
            "_view_name": "ProgressView",
            "bar_style": "success",
            "description": "",
            "description_tooltip": null,
            "layout": "IPY_MODEL_1d755272d279411e9f67e7cef06ae966",
            "max": 1042301,
            "min": 0,
            "orientation": "horizontal",
            "style": "IPY_MODEL_2ac70dfe42664cd89b5a08a76c4fefa4",
            "value": 1042301
          }
        },
        "725e8726dd0a4fe0af5c4764f8ba33db": {
          "model_module": "@jupyter-widgets/controls",
          "model_name": "HTMLModel",
          "model_module_version": "1.5.0",
          "state": {
            "_dom_classes": [],
            "_model_module": "@jupyter-widgets/controls",
            "_model_module_version": "1.5.0",
            "_model_name": "HTMLModel",
            "_view_count": null,
            "_view_module": "@jupyter-widgets/controls",
            "_view_module_version": "1.5.0",
            "_view_name": "HTMLView",
            "description": "",
            "description_tooltip": null,
            "layout": "IPY_MODEL_8e76e8196bef4f668d1e896b78e90691",
            "placeholder": "​",
            "style": "IPY_MODEL_52e694473c76465880efafc2b30be616",
            "value": " 1.04M/1.04M [00:00&lt;00:00, 2.75MB/s]"
          }
        },
        "f5597a8dd84d4a13b1ff56795d8c0202": {
          "model_module": "@jupyter-widgets/base",
          "model_name": "LayoutModel",
          "model_module_version": "1.2.0",
          "state": {
            "_model_module": "@jupyter-widgets/base",
            "_model_module_version": "1.2.0",
            "_model_name": "LayoutModel",
            "_view_count": null,
            "_view_module": "@jupyter-widgets/base",
            "_view_module_version": "1.2.0",
            "_view_name": "LayoutView",
            "align_content": null,
            "align_items": null,
            "align_self": null,
            "border": null,
            "bottom": null,
            "display": null,
            "flex": null,
            "flex_flow": null,
            "grid_area": null,
            "grid_auto_columns": null,
            "grid_auto_flow": null,
            "grid_auto_rows": null,
            "grid_column": null,
            "grid_gap": null,
            "grid_row": null,
            "grid_template_areas": null,
            "grid_template_columns": null,
            "grid_template_rows": null,
            "height": null,
            "justify_content": null,
            "justify_items": null,
            "left": null,
            "margin": null,
            "max_height": null,
            "max_width": null,
            "min_height": null,
            "min_width": null,
            "object_fit": null,
            "object_position": null,
            "order": null,
            "overflow": null,
            "overflow_x": null,
            "overflow_y": null,
            "padding": null,
            "right": null,
            "top": null,
            "visibility": null,
            "width": null
          }
        },
        "9497ca27d942435ea175ebdcf207dca1": {
          "model_module": "@jupyter-widgets/base",
          "model_name": "LayoutModel",
          "model_module_version": "1.2.0",
          "state": {
            "_model_module": "@jupyter-widgets/base",
            "_model_module_version": "1.2.0",
            "_model_name": "LayoutModel",
            "_view_count": null,
            "_view_module": "@jupyter-widgets/base",
            "_view_module_version": "1.2.0",
            "_view_name": "LayoutView",
            "align_content": null,
            "align_items": null,
            "align_self": null,
            "border": null,
            "bottom": null,
            "display": null,
            "flex": null,
            "flex_flow": null,
            "grid_area": null,
            "grid_auto_columns": null,
            "grid_auto_flow": null,
            "grid_auto_rows": null,
            "grid_column": null,
            "grid_gap": null,
            "grid_row": null,
            "grid_template_areas": null,
            "grid_template_columns": null,
            "grid_template_rows": null,
            "height": null,
            "justify_content": null,
            "justify_items": null,
            "left": null,
            "margin": null,
            "max_height": null,
            "max_width": null,
            "min_height": null,
            "min_width": null,
            "object_fit": null,
            "object_position": null,
            "order": null,
            "overflow": null,
            "overflow_x": null,
            "overflow_y": null,
            "padding": null,
            "right": null,
            "top": null,
            "visibility": null,
            "width": null
          }
        },
        "6ea68a589fd740aaa4bec9acee845923": {
          "model_module": "@jupyter-widgets/controls",
          "model_name": "DescriptionStyleModel",
          "model_module_version": "1.5.0",
          "state": {
            "_model_module": "@jupyter-widgets/controls",
            "_model_module_version": "1.5.0",
            "_model_name": "DescriptionStyleModel",
            "_view_count": null,
            "_view_module": "@jupyter-widgets/base",
            "_view_module_version": "1.2.0",
            "_view_name": "StyleView",
            "description_width": ""
          }
        },
        "1d755272d279411e9f67e7cef06ae966": {
          "model_module": "@jupyter-widgets/base",
          "model_name": "LayoutModel",
          "model_module_version": "1.2.0",
          "state": {
            "_model_module": "@jupyter-widgets/base",
            "_model_module_version": "1.2.0",
            "_model_name": "LayoutModel",
            "_view_count": null,
            "_view_module": "@jupyter-widgets/base",
            "_view_module_version": "1.2.0",
            "_view_name": "LayoutView",
            "align_content": null,
            "align_items": null,
            "align_self": null,
            "border": null,
            "bottom": null,
            "display": null,
            "flex": null,
            "flex_flow": null,
            "grid_area": null,
            "grid_auto_columns": null,
            "grid_auto_flow": null,
            "grid_auto_rows": null,
            "grid_column": null,
            "grid_gap": null,
            "grid_row": null,
            "grid_template_areas": null,
            "grid_template_columns": null,
            "grid_template_rows": null,
            "height": null,
            "justify_content": null,
            "justify_items": null,
            "left": null,
            "margin": null,
            "max_height": null,
            "max_width": null,
            "min_height": null,
            "min_width": null,
            "object_fit": null,
            "object_position": null,
            "order": null,
            "overflow": null,
            "overflow_x": null,
            "overflow_y": null,
            "padding": null,
            "right": null,
            "top": null,
            "visibility": null,
            "width": null
          }
        },
        "2ac70dfe42664cd89b5a08a76c4fefa4": {
          "model_module": "@jupyter-widgets/controls",
          "model_name": "ProgressStyleModel",
          "model_module_version": "1.5.0",
          "state": {
            "_model_module": "@jupyter-widgets/controls",
            "_model_module_version": "1.5.0",
            "_model_name": "ProgressStyleModel",
            "_view_count": null,
            "_view_module": "@jupyter-widgets/base",
            "_view_module_version": "1.2.0",
            "_view_name": "StyleView",
            "bar_color": null,
            "description_width": ""
          }
        },
        "8e76e8196bef4f668d1e896b78e90691": {
          "model_module": "@jupyter-widgets/base",
          "model_name": "LayoutModel",
          "model_module_version": "1.2.0",
          "state": {
            "_model_module": "@jupyter-widgets/base",
            "_model_module_version": "1.2.0",
            "_model_name": "LayoutModel",
            "_view_count": null,
            "_view_module": "@jupyter-widgets/base",
            "_view_module_version": "1.2.0",
            "_view_name": "LayoutView",
            "align_content": null,
            "align_items": null,
            "align_self": null,
            "border": null,
            "bottom": null,
            "display": null,
            "flex": null,
            "flex_flow": null,
            "grid_area": null,
            "grid_auto_columns": null,
            "grid_auto_flow": null,
            "grid_auto_rows": null,
            "grid_column": null,
            "grid_gap": null,
            "grid_row": null,
            "grid_template_areas": null,
            "grid_template_columns": null,
            "grid_template_rows": null,
            "height": null,
            "justify_content": null,
            "justify_items": null,
            "left": null,
            "margin": null,
            "max_height": null,
            "max_width": null,
            "min_height": null,
            "min_width": null,
            "object_fit": null,
            "object_position": null,
            "order": null,
            "overflow": null,
            "overflow_x": null,
            "overflow_y": null,
            "padding": null,
            "right": null,
            "top": null,
            "visibility": null,
            "width": null
          }
        },
        "52e694473c76465880efafc2b30be616": {
          "model_module": "@jupyter-widgets/controls",
          "model_name": "DescriptionStyleModel",
          "model_module_version": "1.5.0",
          "state": {
            "_model_module": "@jupyter-widgets/controls",
            "_model_module_version": "1.5.0",
            "_model_name": "DescriptionStyleModel",
            "_view_count": null,
            "_view_module": "@jupyter-widgets/base",
            "_view_module_version": "1.2.0",
            "_view_name": "StyleView",
            "description_width": ""
          }
        },
        "31d5ba75a4c64735bbcbeb72dd72e3fc": {
          "model_module": "@jupyter-widgets/controls",
          "model_name": "HBoxModel",
          "model_module_version": "1.5.0",
          "state": {
            "_dom_classes": [],
            "_model_module": "@jupyter-widgets/controls",
            "_model_module_version": "1.5.0",
            "_model_name": "HBoxModel",
            "_view_count": null,
            "_view_module": "@jupyter-widgets/controls",
            "_view_module_version": "1.5.0",
            "_view_name": "HBoxView",
            "box_style": "",
            "children": [
              "IPY_MODEL_ac01ad131be24a458471a9b52ec4ef62",
              "IPY_MODEL_659e3221f75e42e88595ee292e7e60c9",
              "IPY_MODEL_68e56957f83d42658e30c9a55b60c740"
            ],
            "layout": "IPY_MODEL_29e4efb4e35f4a38810b5540a70c3f08"
          }
        },
        "ac01ad131be24a458471a9b52ec4ef62": {
          "model_module": "@jupyter-widgets/controls",
          "model_name": "HTMLModel",
          "model_module_version": "1.5.0",
          "state": {
            "_dom_classes": [],
            "_model_module": "@jupyter-widgets/controls",
            "_model_module_version": "1.5.0",
            "_model_name": "HTMLModel",
            "_view_count": null,
            "_view_module": "@jupyter-widgets/controls",
            "_view_module_version": "1.5.0",
            "_view_name": "HTMLView",
            "description": "",
            "description_tooltip": null,
            "layout": "IPY_MODEL_e5130bfbf31546adaf4228335f589374",
            "placeholder": "​",
            "style": "IPY_MODEL_edc971c61a924082ae4942fe0fdbe1e3",
            "value": "Downloading: 100%"
          }
        },
        "659e3221f75e42e88595ee292e7e60c9": {
          "model_module": "@jupyter-widgets/controls",
          "model_name": "FloatProgressModel",
          "model_module_version": "1.5.0",
          "state": {
            "_dom_classes": [],
            "_model_module": "@jupyter-widgets/controls",
            "_model_module_version": "1.5.0",
            "_model_name": "FloatProgressModel",
            "_view_count": null,
            "_view_module": "@jupyter-widgets/controls",
            "_view_module_version": "1.5.0",
            "_view_name": "ProgressView",
            "bar_style": "success",
            "description": "",
            "description_tooltip": null,
            "layout": "IPY_MODEL_d5760cb851724b3caab7e5dbd1f422e7",
            "max": 456318,
            "min": 0,
            "orientation": "horizontal",
            "style": "IPY_MODEL_cce59e382c354aa5885229b8d4c5fe95",
            "value": 456318
          }
        },
        "68e56957f83d42658e30c9a55b60c740": {
          "model_module": "@jupyter-widgets/controls",
          "model_name": "HTMLModel",
          "model_module_version": "1.5.0",
          "state": {
            "_dom_classes": [],
            "_model_module": "@jupyter-widgets/controls",
            "_model_module_version": "1.5.0",
            "_model_name": "HTMLModel",
            "_view_count": null,
            "_view_module": "@jupyter-widgets/controls",
            "_view_module_version": "1.5.0",
            "_view_name": "HTMLView",
            "description": "",
            "description_tooltip": null,
            "layout": "IPY_MODEL_44d32dd02dfe48b4b2d65358e4c5d48b",
            "placeholder": "​",
            "style": "IPY_MODEL_10a99b0b7fd54d128554ff6b33129a3b",
            "value": " 456k/456k [00:00&lt;00:00, 918kB/s]"
          }
        },
        "29e4efb4e35f4a38810b5540a70c3f08": {
          "model_module": "@jupyter-widgets/base",
          "model_name": "LayoutModel",
          "model_module_version": "1.2.0",
          "state": {
            "_model_module": "@jupyter-widgets/base",
            "_model_module_version": "1.2.0",
            "_model_name": "LayoutModel",
            "_view_count": null,
            "_view_module": "@jupyter-widgets/base",
            "_view_module_version": "1.2.0",
            "_view_name": "LayoutView",
            "align_content": null,
            "align_items": null,
            "align_self": null,
            "border": null,
            "bottom": null,
            "display": null,
            "flex": null,
            "flex_flow": null,
            "grid_area": null,
            "grid_auto_columns": null,
            "grid_auto_flow": null,
            "grid_auto_rows": null,
            "grid_column": null,
            "grid_gap": null,
            "grid_row": null,
            "grid_template_areas": null,
            "grid_template_columns": null,
            "grid_template_rows": null,
            "height": null,
            "justify_content": null,
            "justify_items": null,
            "left": null,
            "margin": null,
            "max_height": null,
            "max_width": null,
            "min_height": null,
            "min_width": null,
            "object_fit": null,
            "object_position": null,
            "order": null,
            "overflow": null,
            "overflow_x": null,
            "overflow_y": null,
            "padding": null,
            "right": null,
            "top": null,
            "visibility": null,
            "width": null
          }
        },
        "e5130bfbf31546adaf4228335f589374": {
          "model_module": "@jupyter-widgets/base",
          "model_name": "LayoutModel",
          "model_module_version": "1.2.0",
          "state": {
            "_model_module": "@jupyter-widgets/base",
            "_model_module_version": "1.2.0",
            "_model_name": "LayoutModel",
            "_view_count": null,
            "_view_module": "@jupyter-widgets/base",
            "_view_module_version": "1.2.0",
            "_view_name": "LayoutView",
            "align_content": null,
            "align_items": null,
            "align_self": null,
            "border": null,
            "bottom": null,
            "display": null,
            "flex": null,
            "flex_flow": null,
            "grid_area": null,
            "grid_auto_columns": null,
            "grid_auto_flow": null,
            "grid_auto_rows": null,
            "grid_column": null,
            "grid_gap": null,
            "grid_row": null,
            "grid_template_areas": null,
            "grid_template_columns": null,
            "grid_template_rows": null,
            "height": null,
            "justify_content": null,
            "justify_items": null,
            "left": null,
            "margin": null,
            "max_height": null,
            "max_width": null,
            "min_height": null,
            "min_width": null,
            "object_fit": null,
            "object_position": null,
            "order": null,
            "overflow": null,
            "overflow_x": null,
            "overflow_y": null,
            "padding": null,
            "right": null,
            "top": null,
            "visibility": null,
            "width": null
          }
        },
        "edc971c61a924082ae4942fe0fdbe1e3": {
          "model_module": "@jupyter-widgets/controls",
          "model_name": "DescriptionStyleModel",
          "model_module_version": "1.5.0",
          "state": {
            "_model_module": "@jupyter-widgets/controls",
            "_model_module_version": "1.5.0",
            "_model_name": "DescriptionStyleModel",
            "_view_count": null,
            "_view_module": "@jupyter-widgets/base",
            "_view_module_version": "1.2.0",
            "_view_name": "StyleView",
            "description_width": ""
          }
        },
        "d5760cb851724b3caab7e5dbd1f422e7": {
          "model_module": "@jupyter-widgets/base",
          "model_name": "LayoutModel",
          "model_module_version": "1.2.0",
          "state": {
            "_model_module": "@jupyter-widgets/base",
            "_model_module_version": "1.2.0",
            "_model_name": "LayoutModel",
            "_view_count": null,
            "_view_module": "@jupyter-widgets/base",
            "_view_module_version": "1.2.0",
            "_view_name": "LayoutView",
            "align_content": null,
            "align_items": null,
            "align_self": null,
            "border": null,
            "bottom": null,
            "display": null,
            "flex": null,
            "flex_flow": null,
            "grid_area": null,
            "grid_auto_columns": null,
            "grid_auto_flow": null,
            "grid_auto_rows": null,
            "grid_column": null,
            "grid_gap": null,
            "grid_row": null,
            "grid_template_areas": null,
            "grid_template_columns": null,
            "grid_template_rows": null,
            "height": null,
            "justify_content": null,
            "justify_items": null,
            "left": null,
            "margin": null,
            "max_height": null,
            "max_width": null,
            "min_height": null,
            "min_width": null,
            "object_fit": null,
            "object_position": null,
            "order": null,
            "overflow": null,
            "overflow_x": null,
            "overflow_y": null,
            "padding": null,
            "right": null,
            "top": null,
            "visibility": null,
            "width": null
          }
        },
        "cce59e382c354aa5885229b8d4c5fe95": {
          "model_module": "@jupyter-widgets/controls",
          "model_name": "ProgressStyleModel",
          "model_module_version": "1.5.0",
          "state": {
            "_model_module": "@jupyter-widgets/controls",
            "_model_module_version": "1.5.0",
            "_model_name": "ProgressStyleModel",
            "_view_count": null,
            "_view_module": "@jupyter-widgets/base",
            "_view_module_version": "1.2.0",
            "_view_name": "StyleView",
            "bar_color": null,
            "description_width": ""
          }
        },
        "44d32dd02dfe48b4b2d65358e4c5d48b": {
          "model_module": "@jupyter-widgets/base",
          "model_name": "LayoutModel",
          "model_module_version": "1.2.0",
          "state": {
            "_model_module": "@jupyter-widgets/base",
            "_model_module_version": "1.2.0",
            "_model_name": "LayoutModel",
            "_view_count": null,
            "_view_module": "@jupyter-widgets/base",
            "_view_module_version": "1.2.0",
            "_view_name": "LayoutView",
            "align_content": null,
            "align_items": null,
            "align_self": null,
            "border": null,
            "bottom": null,
            "display": null,
            "flex": null,
            "flex_flow": null,
            "grid_area": null,
            "grid_auto_columns": null,
            "grid_auto_flow": null,
            "grid_auto_rows": null,
            "grid_column": null,
            "grid_gap": null,
            "grid_row": null,
            "grid_template_areas": null,
            "grid_template_columns": null,
            "grid_template_rows": null,
            "height": null,
            "justify_content": null,
            "justify_items": null,
            "left": null,
            "margin": null,
            "max_height": null,
            "max_width": null,
            "min_height": null,
            "min_width": null,
            "object_fit": null,
            "object_position": null,
            "order": null,
            "overflow": null,
            "overflow_x": null,
            "overflow_y": null,
            "padding": null,
            "right": null,
            "top": null,
            "visibility": null,
            "width": null
          }
        },
        "10a99b0b7fd54d128554ff6b33129a3b": {
          "model_module": "@jupyter-widgets/controls",
          "model_name": "DescriptionStyleModel",
          "model_module_version": "1.5.0",
          "state": {
            "_model_module": "@jupyter-widgets/controls",
            "_model_module_version": "1.5.0",
            "_model_name": "DescriptionStyleModel",
            "_view_count": null,
            "_view_module": "@jupyter-widgets/base",
            "_view_module_version": "1.2.0",
            "_view_name": "StyleView",
            "description_width": ""
          }
        },
        "783a9c2c0d7545d995d8efbf43ae5f3a": {
          "model_module": "@jupyter-widgets/controls",
          "model_name": "HBoxModel",
          "model_module_version": "1.5.0",
          "state": {
            "_dom_classes": [],
            "_model_module": "@jupyter-widgets/controls",
            "_model_module_version": "1.5.0",
            "_model_name": "HBoxModel",
            "_view_count": null,
            "_view_module": "@jupyter-widgets/controls",
            "_view_module_version": "1.5.0",
            "_view_name": "HBoxView",
            "box_style": "",
            "children": [
              "IPY_MODEL_879392905de8418eae46d9a27611995a",
              "IPY_MODEL_5355b918da9040988525458c83f99dfc",
              "IPY_MODEL_7dcd3f72fa5e4e9aa2d2981de5b5a935"
            ],
            "layout": "IPY_MODEL_3c13ce1fdfe7405d9a5e30d2eaf0c600"
          }
        },
        "879392905de8418eae46d9a27611995a": {
          "model_module": "@jupyter-widgets/controls",
          "model_name": "HTMLModel",
          "model_module_version": "1.5.0",
          "state": {
            "_dom_classes": [],
            "_model_module": "@jupyter-widgets/controls",
            "_model_module_version": "1.5.0",
            "_model_name": "HTMLModel",
            "_view_count": null,
            "_view_module": "@jupyter-widgets/controls",
            "_view_module_version": "1.5.0",
            "_view_name": "HTMLView",
            "description": "",
            "description_tooltip": null,
            "layout": "IPY_MODEL_1c22fd46cf554b118a87fd72eb0c254b",
            "placeholder": "​",
            "style": "IPY_MODEL_127b7e93978c4697b05aeb268e2345bc",
            "value": "Downloading: 100%"
          }
        },
        "5355b918da9040988525458c83f99dfc": {
          "model_module": "@jupyter-widgets/controls",
          "model_name": "FloatProgressModel",
          "model_module_version": "1.5.0",
          "state": {
            "_dom_classes": [],
            "_model_module": "@jupyter-widgets/controls",
            "_model_module_version": "1.5.0",
            "_model_name": "FloatProgressModel",
            "_view_count": null,
            "_view_module": "@jupyter-widgets/controls",
            "_view_module_version": "1.5.0",
            "_view_name": "ProgressView",
            "bar_style": "success",
            "description": "",
            "description_tooltip": null,
            "layout": "IPY_MODEL_864bbecaea464ba3b9fadaf406ba4579",
            "max": 1355256,
            "min": 0,
            "orientation": "horizontal",
            "style": "IPY_MODEL_2df540dcf770426cb0b784a1936491ce",
            "value": 1355256
          }
        },
        "7dcd3f72fa5e4e9aa2d2981de5b5a935": {
          "model_module": "@jupyter-widgets/controls",
          "model_name": "HTMLModel",
          "model_module_version": "1.5.0",
          "state": {
            "_dom_classes": [],
            "_model_module": "@jupyter-widgets/controls",
            "_model_module_version": "1.5.0",
            "_model_name": "HTMLModel",
            "_view_count": null,
            "_view_module": "@jupyter-widgets/controls",
            "_view_module_version": "1.5.0",
            "_view_name": "HTMLView",
            "description": "",
            "description_tooltip": null,
            "layout": "IPY_MODEL_10c1e2e546c2465b9b310415596513eb",
            "placeholder": "​",
            "style": "IPY_MODEL_6e31d9cad4d940b7b6108500be415694",
            "value": " 1.36M/1.36M [00:00&lt;00:00, 1.43MB/s]"
          }
        },
        "3c13ce1fdfe7405d9a5e30d2eaf0c600": {
          "model_module": "@jupyter-widgets/base",
          "model_name": "LayoutModel",
          "model_module_version": "1.2.0",
          "state": {
            "_model_module": "@jupyter-widgets/base",
            "_model_module_version": "1.2.0",
            "_model_name": "LayoutModel",
            "_view_count": null,
            "_view_module": "@jupyter-widgets/base",
            "_view_module_version": "1.2.0",
            "_view_name": "LayoutView",
            "align_content": null,
            "align_items": null,
            "align_self": null,
            "border": null,
            "bottom": null,
            "display": null,
            "flex": null,
            "flex_flow": null,
            "grid_area": null,
            "grid_auto_columns": null,
            "grid_auto_flow": null,
            "grid_auto_rows": null,
            "grid_column": null,
            "grid_gap": null,
            "grid_row": null,
            "grid_template_areas": null,
            "grid_template_columns": null,
            "grid_template_rows": null,
            "height": null,
            "justify_content": null,
            "justify_items": null,
            "left": null,
            "margin": null,
            "max_height": null,
            "max_width": null,
            "min_height": null,
            "min_width": null,
            "object_fit": null,
            "object_position": null,
            "order": null,
            "overflow": null,
            "overflow_x": null,
            "overflow_y": null,
            "padding": null,
            "right": null,
            "top": null,
            "visibility": null,
            "width": null
          }
        },
        "1c22fd46cf554b118a87fd72eb0c254b": {
          "model_module": "@jupyter-widgets/base",
          "model_name": "LayoutModel",
          "model_module_version": "1.2.0",
          "state": {
            "_model_module": "@jupyter-widgets/base",
            "_model_module_version": "1.2.0",
            "_model_name": "LayoutModel",
            "_view_count": null,
            "_view_module": "@jupyter-widgets/base",
            "_view_module_version": "1.2.0",
            "_view_name": "LayoutView",
            "align_content": null,
            "align_items": null,
            "align_self": null,
            "border": null,
            "bottom": null,
            "display": null,
            "flex": null,
            "flex_flow": null,
            "grid_area": null,
            "grid_auto_columns": null,
            "grid_auto_flow": null,
            "grid_auto_rows": null,
            "grid_column": null,
            "grid_gap": null,
            "grid_row": null,
            "grid_template_areas": null,
            "grid_template_columns": null,
            "grid_template_rows": null,
            "height": null,
            "justify_content": null,
            "justify_items": null,
            "left": null,
            "margin": null,
            "max_height": null,
            "max_width": null,
            "min_height": null,
            "min_width": null,
            "object_fit": null,
            "object_position": null,
            "order": null,
            "overflow": null,
            "overflow_x": null,
            "overflow_y": null,
            "padding": null,
            "right": null,
            "top": null,
            "visibility": null,
            "width": null
          }
        },
        "127b7e93978c4697b05aeb268e2345bc": {
          "model_module": "@jupyter-widgets/controls",
          "model_name": "DescriptionStyleModel",
          "model_module_version": "1.5.0",
          "state": {
            "_model_module": "@jupyter-widgets/controls",
            "_model_module_version": "1.5.0",
            "_model_name": "DescriptionStyleModel",
            "_view_count": null,
            "_view_module": "@jupyter-widgets/base",
            "_view_module_version": "1.2.0",
            "_view_name": "StyleView",
            "description_width": ""
          }
        },
        "864bbecaea464ba3b9fadaf406ba4579": {
          "model_module": "@jupyter-widgets/base",
          "model_name": "LayoutModel",
          "model_module_version": "1.2.0",
          "state": {
            "_model_module": "@jupyter-widgets/base",
            "_model_module_version": "1.2.0",
            "_model_name": "LayoutModel",
            "_view_count": null,
            "_view_module": "@jupyter-widgets/base",
            "_view_module_version": "1.2.0",
            "_view_name": "LayoutView",
            "align_content": null,
            "align_items": null,
            "align_self": null,
            "border": null,
            "bottom": null,
            "display": null,
            "flex": null,
            "flex_flow": null,
            "grid_area": null,
            "grid_auto_columns": null,
            "grid_auto_flow": null,
            "grid_auto_rows": null,
            "grid_column": null,
            "grid_gap": null,
            "grid_row": null,
            "grid_template_areas": null,
            "grid_template_columns": null,
            "grid_template_rows": null,
            "height": null,
            "justify_content": null,
            "justify_items": null,
            "left": null,
            "margin": null,
            "max_height": null,
            "max_width": null,
            "min_height": null,
            "min_width": null,
            "object_fit": null,
            "object_position": null,
            "order": null,
            "overflow": null,
            "overflow_x": null,
            "overflow_y": null,
            "padding": null,
            "right": null,
            "top": null,
            "visibility": null,
            "width": null
          }
        },
        "2df540dcf770426cb0b784a1936491ce": {
          "model_module": "@jupyter-widgets/controls",
          "model_name": "ProgressStyleModel",
          "model_module_version": "1.5.0",
          "state": {
            "_model_module": "@jupyter-widgets/controls",
            "_model_module_version": "1.5.0",
            "_model_name": "ProgressStyleModel",
            "_view_count": null,
            "_view_module": "@jupyter-widgets/base",
            "_view_module_version": "1.2.0",
            "_view_name": "StyleView",
            "bar_color": null,
            "description_width": ""
          }
        },
        "10c1e2e546c2465b9b310415596513eb": {
          "model_module": "@jupyter-widgets/base",
          "model_name": "LayoutModel",
          "model_module_version": "1.2.0",
          "state": {
            "_model_module": "@jupyter-widgets/base",
            "_model_module_version": "1.2.0",
            "_model_name": "LayoutModel",
            "_view_count": null,
            "_view_module": "@jupyter-widgets/base",
            "_view_module_version": "1.2.0",
            "_view_name": "LayoutView",
            "align_content": null,
            "align_items": null,
            "align_self": null,
            "border": null,
            "bottom": null,
            "display": null,
            "flex": null,
            "flex_flow": null,
            "grid_area": null,
            "grid_auto_columns": null,
            "grid_auto_flow": null,
            "grid_auto_rows": null,
            "grid_column": null,
            "grid_gap": null,
            "grid_row": null,
            "grid_template_areas": null,
            "grid_template_columns": null,
            "grid_template_rows": null,
            "height": null,
            "justify_content": null,
            "justify_items": null,
            "left": null,
            "margin": null,
            "max_height": null,
            "max_width": null,
            "min_height": null,
            "min_width": null,
            "object_fit": null,
            "object_position": null,
            "order": null,
            "overflow": null,
            "overflow_x": null,
            "overflow_y": null,
            "padding": null,
            "right": null,
            "top": null,
            "visibility": null,
            "width": null
          }
        },
        "6e31d9cad4d940b7b6108500be415694": {
          "model_module": "@jupyter-widgets/controls",
          "model_name": "DescriptionStyleModel",
          "model_module_version": "1.5.0",
          "state": {
            "_model_module": "@jupyter-widgets/controls",
            "_model_module_version": "1.5.0",
            "_model_name": "DescriptionStyleModel",
            "_view_count": null,
            "_view_module": "@jupyter-widgets/base",
            "_view_module_version": "1.2.0",
            "_view_name": "StyleView",
            "description_width": ""
          }
        }
      }
    }
  },
  "nbformat": 4,
  "nbformat_minor": 0
}